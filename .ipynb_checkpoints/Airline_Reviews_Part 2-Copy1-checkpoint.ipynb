{
 "cells": [
  {
   "cell_type": "markdown",
   "id": "5d24c77e",
   "metadata": {},
   "source": [
    "## Airline Review Analysis Part 2 Sentiment Analysis"
   ]
  },
  {
   "cell_type": "markdown",
   "id": "7ebc43af",
   "metadata": {},
   "source": [
    "In the previous [notebook](https://www.kaggle.com/code/treelunar/airline-review-analysis-part-1-eda), we embarked on a comprehensive analysis of a dataset comprising airline reviews. We gained insights into the dataset through preliminary data exploration, improve the quality of the data by applying robust data cleaning techniques, and conduct thorough exploratory data analysis to uncover meaningful patterns and trends.\n",
    "\n",
    "Now in this second notebook, we will conduct sentiment analysis. "
   ]
  },
  {
   "cell_type": "markdown",
   "id": "c16269ed",
   "metadata": {},
   "source": [
    "## Table of Contents\n",
    "* <a href=\"#bi\">1. Advanced Textual Analysis: Bigrams and Word Networks</a>\n",
    "* <a href=\"#pre\">2. Text Preprocessing</a>\n",
    "* <a href=\"#vda\">3. Initial Sentiment Analysis Using VADER</a>\n",
    "  * <a href=\"#sec3.1\"> 3.1. VADER Sentiment Scoring</a>\n",
    "  * <a href=\"#sec3.2\"> 3.2. VADER Result Visualization</a>\n",
    "* <a href=\"#rob\">4. Advanced Sentiment Analysis Using RoBERTa</a>\n",
    "  * <a href=\"#sec4.1\"> 4.1. Generating Word Embeddings with RoBERTa</a>\n",
    "  * <a href=\"#sec4.2\"> 4.2. Building the Random Forest Classifier</a>\n",
    "    * <a href=\"#sec4.2.1\"> 4.2.1. Initial Model Evaluation and Application</a>\n",
    "    * <a href=\"#sec4.2.2\"> 4.2.2. Classification Report</a>\n",
    "    * <a href=\"#sec4.2.3\"> 4.2.3. Hyperparameter Tuning</a>\n",
    "    * <a href=\"#sec4.2.4\"> 4.2.4. Coarse GridSearchCV</a>    \n",
    "    * <a href=\"#sec4.2.5\"> 4.2.5. Classification Report (Initial vs. Optimized)</a>     \n",
    "  * <a href=\"#sec4.3\"> 4.3. Building the Support Vector Classifier</a>\n",
    "    * <a href=\"#sec4.3.1\"> 4.3.1. Initial Model Evaluation and Application</a>  \n",
    "    * <a href=\"#sec4.3.2\"> 4.3.2. Classification Report</a>\n",
    "    * <a href=\"#sec4.3.3\"> 4.3.3. Hyperparameter Tuning</a>    \n",
    "    * <a href=\"#sec4.3.4\"> 4.3.4. Classification Report (Initial vs. Optimized)</a>    \n",
    "  * <a href=\"#sec4.4\"> 4.4. Building the Gradient Boosting Model</a>\n",
    "    * <a href=\"#sec4.4.1\"> 4.4.1. Initial Model Evaluation and Application</a>  \n",
    "    * <a href=\"#sec4.4.2\"> 4.4.2. Classification Report</a>\n",
    "    * <a href=\"#sec4.4.3\"> 4.4.3. Hyperparameter Tuning</a>    \n",
    "    * <a href=\"#sec4.4.4\"> 4.4.4. Classification Report (Initial vs. Optimized)</a>  \n",
    "  * <a href=\"#sec4.5\"> 4.5. Model Comparison</a>    \n",
    "    \n",
    "\n",
    "\n",
    "\n",
    "\n",
    "* <a href=\"#sum\">5. Finding Summary</a>\n",
    "* <a href=\"#sum\">6. Next Steps</a>"
   ]
  },
  {
   "cell_type": "markdown",
   "id": "98ead16a",
   "metadata": {},
   "source": [
    "<a id='bi'></a>\n",
    "## 1. Advanced Textual Analysis: Bigrams and Word Networksa"
   ]
  },
  {
   "cell_type": "code",
   "execution_count": 5,
   "id": "5cf2f72b",
   "metadata": {},
   "outputs": [],
   "source": [
    "# Import packages\n",
    "\n",
    "import numpy as np\n",
    "import pandas as pd\n",
    "import matplotlib.pyplot as plt\n",
    "import seaborn as sns\n",
    "\n",
    "# Random seed for reproducibility\n",
    "\n",
    "np.random.seed(123)"
   ]
  },
  {
   "cell_type": "code",
   "execution_count": 3,
   "id": "16bb005c",
   "metadata": {},
   "outputs": [
    {
     "data": {
      "text/html": [
       "<div>\n",
       "<style scoped>\n",
       "    .dataframe tbody tr th:only-of-type {\n",
       "        vertical-align: middle;\n",
       "    }\n",
       "\n",
       "    .dataframe tbody tr th {\n",
       "        vertical-align: top;\n",
       "    }\n",
       "\n",
       "    .dataframe thead th {\n",
       "        text-align: right;\n",
       "    }\n",
       "</style>\n",
       "<table border=\"1\" class=\"dataframe\">\n",
       "  <thead>\n",
       "    <tr style=\"text-align: right;\">\n",
       "      <th></th>\n",
       "      <th>AirlineName</th>\n",
       "      <th>CabinType</th>\n",
       "      <th>EntertainmentRating</th>\n",
       "      <th>FoodRating</th>\n",
       "      <th>GroundServiceRating</th>\n",
       "      <th>OverallScore</th>\n",
       "      <th>Recommended</th>\n",
       "      <th>Review</th>\n",
       "      <th>SeatComfortRating</th>\n",
       "      <th>ServiceRating</th>\n",
       "      <th>TripVerified</th>\n",
       "      <th>ValueRating</th>\n",
       "      <th>WifiRating</th>\n",
       "      <th>MonthYearPublished</th>\n",
       "    </tr>\n",
       "  </thead>\n",
       "  <tbody>\n",
       "    <tr>\n",
       "      <th>0</th>\n",
       "      <td>AB Aviation</td>\n",
       "      <td>Economy Class</td>\n",
       "      <td>0</td>\n",
       "      <td>4</td>\n",
       "      <td>4</td>\n",
       "      <td>9.0</td>\n",
       "      <td>1</td>\n",
       "      <td>Moroni to Moheli. Turned out to be a pretty de...</td>\n",
       "      <td>4</td>\n",
       "      <td>5</td>\n",
       "      <td>1</td>\n",
       "      <td>3</td>\n",
       "      <td>0</td>\n",
       "      <td>2019-11-01</td>\n",
       "    </tr>\n",
       "    <tr>\n",
       "      <th>1</th>\n",
       "      <td>AB Aviation</td>\n",
       "      <td>Economy Class</td>\n",
       "      <td>0</td>\n",
       "      <td>1</td>\n",
       "      <td>1</td>\n",
       "      <td>1.0</td>\n",
       "      <td>0</td>\n",
       "      <td>Moroni to Anjouan. It is a very small airline....</td>\n",
       "      <td>2</td>\n",
       "      <td>2</td>\n",
       "      <td>1</td>\n",
       "      <td>2</td>\n",
       "      <td>0</td>\n",
       "      <td>2019-06-01</td>\n",
       "    </tr>\n",
       "    <tr>\n",
       "      <th>2</th>\n",
       "      <td>AB Aviation</td>\n",
       "      <td>Economy Class</td>\n",
       "      <td>0</td>\n",
       "      <td>1</td>\n",
       "      <td>1</td>\n",
       "      <td>1.0</td>\n",
       "      <td>0</td>\n",
       "      <td>Anjouan to Dzaoudzi. A very small airline and ...</td>\n",
       "      <td>2</td>\n",
       "      <td>1</td>\n",
       "      <td>1</td>\n",
       "      <td>2</td>\n",
       "      <td>0</td>\n",
       "      <td>2019-06-01</td>\n",
       "    </tr>\n",
       "    <tr>\n",
       "      <th>3</th>\n",
       "      <td>Aerocaribbean</td>\n",
       "      <td>Economy Class</td>\n",
       "      <td>0</td>\n",
       "      <td>0</td>\n",
       "      <td>0</td>\n",
       "      <td>8.0</td>\n",
       "      <td>1</td>\n",
       "      <td>Havana - Cayo Coco return. A one hour flight w...</td>\n",
       "      <td>0</td>\n",
       "      <td>0</td>\n",
       "      <td>0</td>\n",
       "      <td>4</td>\n",
       "      <td>0</td>\n",
       "      <td>2010-12-01</td>\n",
       "    </tr>\n",
       "    <tr>\n",
       "      <th>4</th>\n",
       "      <td>Aerocaribbean</td>\n",
       "      <td>NaN</td>\n",
       "      <td>0</td>\n",
       "      <td>0</td>\n",
       "      <td>0</td>\n",
       "      <td>1.0</td>\n",
       "      <td>0</td>\n",
       "      <td>Holguin to Havana last week. Okay apart from i...</td>\n",
       "      <td>0</td>\n",
       "      <td>0</td>\n",
       "      <td>0</td>\n",
       "      <td>0</td>\n",
       "      <td>0</td>\n",
       "      <td>2010-11-01</td>\n",
       "    </tr>\n",
       "  </tbody>\n",
       "</table>\n",
       "</div>"
      ],
      "text/plain": [
       "     AirlineName      CabinType  EntertainmentRating  FoodRating  \\\n",
       "0    AB Aviation  Economy Class                    0           4   \n",
       "1    AB Aviation  Economy Class                    0           1   \n",
       "2    AB Aviation  Economy Class                    0           1   \n",
       "3  Aerocaribbean  Economy Class                    0           0   \n",
       "4  Aerocaribbean            NaN                    0           0   \n",
       "\n",
       "   GroundServiceRating  OverallScore  Recommended  \\\n",
       "0                    4           9.0            1   \n",
       "1                    1           1.0            0   \n",
       "2                    1           1.0            0   \n",
       "3                    0           8.0            1   \n",
       "4                    0           1.0            0   \n",
       "\n",
       "                                              Review  SeatComfortRating  \\\n",
       "0  Moroni to Moheli. Turned out to be a pretty de...                  4   \n",
       "1  Moroni to Anjouan. It is a very small airline....                  2   \n",
       "2  Anjouan to Dzaoudzi. A very small airline and ...                  2   \n",
       "3  Havana - Cayo Coco return. A one hour flight w...                  0   \n",
       "4  Holguin to Havana last week. Okay apart from i...                  0   \n",
       "\n",
       "   ServiceRating  TripVerified  ValueRating  WifiRating MonthYearPublished  \n",
       "0              5             1            3           0         2019-11-01  \n",
       "1              2             1            2           0         2019-06-01  \n",
       "2              1             1            2           0         2019-06-01  \n",
       "3              0             0            4           0         2010-12-01  \n",
       "4              0             0            0           0         2010-11-01  "
      ]
     },
     "execution_count": 3,
     "metadata": {},
     "output_type": "execute_result"
    }
   ],
   "source": [
    "# Import cleaned airline review data \n",
    "\n",
    "reviews_df = pd.read_csv('cleaned_review.csv')\n",
    "reviews_df.head()"
   ]
  },
  {
   "cell_type": "code",
   "execution_count": 4,
   "id": "8546cdaa",
   "metadata": {},
   "outputs": [
    {
     "name": "stdout",
     "output_type": "stream",
     "text": [
      "<class 'pandas.core.frame.DataFrame'>\n",
      "RangeIndex: 124301 entries, 0 to 124300\n",
      "Data columns (total 14 columns):\n",
      " #   Column               Non-Null Count   Dtype  \n",
      "---  ------               --------------   -----  \n",
      " 0   AirlineName          124301 non-null  object \n",
      " 1   CabinType            122234 non-null  object \n",
      " 2   EntertainmentRating  124301 non-null  int64  \n",
      " 3   FoodRating           124301 non-null  int64  \n",
      " 4   GroundServiceRating  124301 non-null  int64  \n",
      " 5   OverallScore         124301 non-null  float64\n",
      " 6   Recommended          124301 non-null  int64  \n",
      " 7   Review               124301 non-null  object \n",
      " 8   SeatComfortRating    124301 non-null  int64  \n",
      " 9   ServiceRating        124301 non-null  int64  \n",
      " 10  TripVerified         124301 non-null  int64  \n",
      " 11  ValueRating          124301 non-null  int64  \n",
      " 12  WifiRating           124301 non-null  int64  \n",
      " 13  MonthYearPublished   124301 non-null  object \n",
      "dtypes: float64(1), int64(9), object(4)\n",
      "memory usage: 13.3+ MB\n"
     ]
    }
   ],
   "source": [
    "# Learn about the DataFrame\n",
    "reviews_df.info()"
   ]
  },
  {
   "cell_type": "markdown",
   "id": "76793109",
   "metadata": {},
   "source": [
    "Now, we're shifting our focus to a more detailed text analysis. In the previous notebook, we tailored the `token_pattern` parameter to recognize only English alphabets, while ignoring non-alphabetic characters. As we delve deeper, we plan to examine bigrams, offering us a more nuanced understanding of the review content. Unlike before, this time, we will not exclude non-English characters. Considering that the lion's share of our reviews is in English, and our focus is on the top 50 most common bigrams, it's reasonable to expect that these bigrams will be predominantly English. For any non-English words or bigrams to be included in the top 50, they would have to be extraordinarily common, which is less likely given the predominantly English nature of our dataset."
   ]
  },
  {
   "cell_type": "code",
   "execution_count": 66,
   "id": "9da1a008",
   "metadata": {},
   "outputs": [
    {
     "data": {
      "text/plain": [
       "\"Moroni to Moheli. Turned out to be a pretty decent airline. Online booking worked well, checkin and boarding was fine and the plane looked well maintained. Its a very short flight - just 20 minutes or so so i didn't expect much but they still managed to hand our a bottle of water and some biscuits which i though was very nice. Both flights on time.\""
      ]
     },
     "execution_count": 66,
     "metadata": {},
     "output_type": "execute_result"
    }
   ],
   "source": [
    "reviews_df['Review'][0]"
   ]
  },
  {
   "cell_type": "code",
   "execution_count": 28,
   "id": "e1982c24",
   "metadata": {},
   "outputs": [
    {
     "data": {
      "image/png": "[encoded data removed]",
      "text/plain": [
       "<Figure size 1500x1200 with 1 Axes>"
      ]
     },
     "metadata": {},
     "output_type": "display_data"
    }
   ],
   "source": [
    "from sklearn.feature_extraction import text\n",
    "from sklearn.feature_extraction.text import CountVectorizer\n",
    "\n",
    "# Create an instance of CountVectorizer with stopwords and ngram_range for bigrams\n",
    "stopwords = text.ENGLISH_STOP_WORDS\n",
    "vectorizer = CountVectorizer(stop_words=stopwords, ngram_range=(2, 2), lowercase=True)\n",
    "\n",
    "# Fit and transform the 'Review' column\n",
    "review_vectors = vectorizer.fit_transform(reviews_df['Review'])\n",
    "\n",
    "# Convert the sparse matrix to a DataFrame\n",
    "review_vectors_df = pd.DataFrame.sparse.from_spmatrix(review_vectors, columns=vectorizer.get_feature_names_out())\n",
    "\n",
    "# Compute the word frequencies\n",
    "word_frequencies = review_vectors_df.sum(axis=0)\n",
    "\n",
    "# Sort the word frequencies in descending order\n",
    "sorted_word_frequencies = word_frequencies.sort_values(ascending=False)\n",
    "\n",
    "# Select the top 50 most frequent bigrams\n",
    "top_50_bigrams = sorted_word_frequencies.head(50)\n",
    "\n",
    "# Plot the bar chart\n",
    "plt.figure(figsize=(15, 12))\n",
    "sns.barplot(x=top_50_bigrams.values, y=top_50_bigrams.index)\n",
    "plt.title('Top 50 Most Frequent Bigrams')\n",
    "plt.xlabel('Frequency')\n",
    "plt.ylabel('Bigrams')\n",
    "plt.show()"
   ]
  },
  {
   "cell_type": "markdown",
   "id": "8672cb0a",
   "metadata": {},
   "source": [
    "The top bigram is **\"customer service\"**. However, unless we filter this bigram by sentiment (e.g., positive, negative, neutral) it is hard to understand the customers' intentions behind it. Possibly, trigrams (three-word phrases) could be explored to understand the context of these bigrams in greater detail. Then, we can tell whether **\"customer service\"** is part of \"excellent customer service\" or \"poor customer service,\" which bear vastly different implications.\n",
    "\n",
    "Bigrams such as **\"business class\"**, **\"economy class\"**, and **\"premium economy\"** provide insight into the class of travel that reviewers frequently comment on. References to **\"flight delayed\"** and **\"flight cancelled\"** suggest that issues related to flight punctuality significantly impact passengers' experiences. Geographical references, such as **\"new york\"**, **\"hong kong\"**, and **\"kuala lumpur\"**, highlight popular travel routes or airports that may have unique characteristics impacting passenger satisfaction.\n",
    "\n",
    "We see that both **\"flight attendants\"** and **\"flight attendant\"** appear in the top frequent bigrams. We can use the lemmatization technique to transform both words into \"flight attendant.\""
   ]
  },
  {
   "cell_type": "code",
   "execution_count": 63,
   "id": "0914355a",
   "metadata": {},
   "outputs": [
    {
     "name": "stderr",
     "output_type": "stream",
     "text": [
      "100%|█████████████████████████████████████████████████████████████████████████| 124301/124301 [04:37<00:00, 447.14it/s]\n"
     ]
    },
    {
     "name": "stdout",
     "output_type": "stream",
     "text": [
      "Total time taken:  1123.9735081195831 seconds\n"
     ]
    },
    {
     "data": {
      "image/png": "[encoded data removed]",
      "text/plain": [
       "<Figure size 1500x1200 with 1 Axes>"
      ]
     },
     "metadata": {},
     "output_type": "display_data"
    }
   ],
   "source": [
    "from sklearn.feature_extraction import text\n",
    "from sklearn.feature_extraction.text import CountVectorizer\n",
    "import nltk\n",
    "from nltk.stem import WordNetLemmatizer\n",
    "from nltk.tokenize import word_tokenize\n",
    "\n",
    "# Download necessary nltk data\n",
    "#nltk.download('punkt')\n",
    "#nltk.download('wordnet')\n",
    "#nltk.download('stopwords')\n",
    "\n",
    "# Initialize the WordNetLemmatizer\n",
    "lemmatizer = WordNetLemmatizer()\n",
    "\n",
    "# Function to lemmatize each word in a given text\n",
    "def lemmatize_text(text):\n",
    "    word_list = word_tokenize(text)\n",
    "    lemmatized_output = ' '.join([lemmatizer.lemmatize(w) for w in word_list])\n",
    "    return lemmatized_output\n",
    "\n",
    "# Initialize an empty list to keep track of the lemmatized reviews\n",
    "lemmatized_reviews = []\n",
    "\n",
    "# Note the start time\n",
    "start_time = time.time()\n",
    "\n",
    "# Iterate over the reviews in the 'Review' column\n",
    "for review in tqdm(reviews_df['Review']): # Provide a progress bar\n",
    "    # Lemmatize the review and append to the list\n",
    "    lemmatized_reviews.append(lemmatize_text(review))\n",
    "\n",
    "# Add the lemmatized reviews to the dataframe\n",
    "reviews_df['Review'] = lemmatized_reviews\n",
    "\n",
    "# Create an instance of CountVectorizer with stopwords and ngram_range for trigrams\n",
    "stopwords = text.ENGLISH_STOP_WORDS\n",
    "vectorizer = CountVectorizer(stop_words=stopwords, ngram_range=(3, 3), lowercase=True)\n",
    "\n",
    "# Fit and transform the 'Review' column\n",
    "review_vectors = vectorizer.fit_transform(reviews_df['Review'])\n",
    "\n",
    "# Convert the sparse matrix to a DataFrame\n",
    "review_vectors_df = pd.DataFrame.sparse.from_spmatrix(review_vectors, columns=vectorizer.get_feature_names_out())\n",
    "\n",
    "# Compute the word frequencies\n",
    "word_frequencies = review_vectors_df.sum(axis=0)\n",
    "\n",
    "# Sort the word frequencies in descending order\n",
    "sorted_word_frequencies = word_frequencies.sort_values(ascending=False)\n",
    "\n",
    "# Select the top 50 most frequent trigrams\n",
    "top_50_trigrams = sorted_word_frequencies.head(50)\n",
    "\n",
    "# Note the end time and print the total time taken\n",
    "end_time = time.time()\n",
    "print(\"Total time taken: \", end_time - start_time, \"seconds\")\n",
    "\n",
    "# Plot the bar chart\n",
    "plt.figure(figsize=(15, 12))\n",
    "sns.barplot(x=top_50_trigrams.values, y=top_50_trigrams.index)\n",
    "plt.title('Top 50 Most Frequent Trigrams')\n",
    "plt.xlabel('Frequency')\n",
    "plt.ylabel('Trigrams')\n",
    "plt.show()"
   ]
  },
  {
   "cell_type": "markdown",
   "id": "750596dc",
   "metadata": {},
   "source": [
    "One thing to note is the frequency of the word \"wa\". This is not the expected result. Lemmatization is supposed to convert \"was\" to \"be\" (as far as I understood). So, we want to check whether our lemmatizer indeed convert \"was\" to \"wa\".\n",
    "\n",
    "Other than that, the trigrams give much insight into more nuanced customer experiences and sentiments.\n",
    "For example, \"flight wa delayed\", \"wa delayed hour\", \"flight wa cancelled\", are all strongly indicative of negative customer experiences, as they reflect issues with the flight's punctuality.\n",
    "\n",
    "Positive experiences are also reflected, such as in \"food wa good\", \"service wa good\", and \"cabin crew friendly\". These trigrams suggest aspects that customers appreciate, like good food, comfortable seating in business class, and friendly cabin crew.\n",
    "\n",
    "From the bigrams, we were curious to know more about \"customer service\". Trigrams indeed reveal that many passengers used the phrase in negative sense, such as \"worst customer service\" and \"terrible customer service\".\n",
    "\n",
    "Overall, the trigrams provide a more nuanced context for understanding customer sentiment than individual words or even bigrams. They help paint a clearer picture of common themes and issues in the reviews."
   ]
  },
  {
   "cell_type": "code",
   "execution_count": 68,
   "id": "e2ee6d80",
   "metadata": {
    "scrolled": true
   },
   "outputs": [
    {
     "name": "stdout",
     "output_type": "stream",
     "text": [
      "wa\n"
     ]
    }
   ],
   "source": [
    "# Check how lemmatizer convert \"was\"\n",
    "lemmatizer = WordNetLemmatizer()\n",
    "print(lemmatizer.lemmatize(\"was\"))"
   ]
  },
  {
   "cell_type": "markdown",
   "id": "ff33cf73",
   "metadata": {},
   "source": [
    "Our lemmatizer does convert \"was\" to \"wa\"!!! 🤯\n",
    "\n",
    "One solution can be to modify the lemmatization function to incorporate POS (part-of-speech) tagging. It seems that the lemmatizer is treating \"was\" as a noun, when it is actually a verb. The POS tagger can inform the lemmatizer of the correct part of speech. We can modify our trigram code again and test it!"
   ]
  },
  {
   "cell_type": "code",
   "execution_count": 70,
   "id": "01790006",
   "metadata": {},
   "outputs": [
    {
     "name": "stderr",
     "output_type": "stream",
     "text": [
      "[nltk_data] Downloading package averaged_perceptron_tagger to\n",
      "[nltk_data]     C:\\Users\\treel\\AppData\\Roaming\\nltk_data...\n",
      "[nltk_data]   Unzipping taggers\\averaged_perceptron_tagger.zip.\n"
     ]
    },
    {
     "data": {
      "image/png": "[encoded data removed]",
      "text/plain": [
       "<Figure size 1500x1200 with 1 Axes>"
      ]
     },
     "metadata": {},
     "output_type": "display_data"
    }
   ],
   "source": [
    "import nltk\n",
    "#nltk.download('averaged_perceptron_tagger')\n",
    "from nltk.corpus import wordnet\n",
    "\n",
    "# Create an instance of WordNetLemmatizer\n",
    "lemmatizer = WordNetLemmatizer()\n",
    "\n",
    "# Function to map NLTK POS to wordnet tags\n",
    "def get_wordnet_pos(nltk_tag):\n",
    "    if nltk_tag.startswith('J'):\n",
    "        return wordnet.ADJ\n",
    "    elif nltk_tag.startswith('V'):\n",
    "        return wordnet.VERB\n",
    "    elif nltk_tag.startswith('N'):\n",
    "        return wordnet.NOUN\n",
    "    elif nltk_tag.startswith('R'):\n",
    "        return wordnet.ADV\n",
    "    else:\n",
    "        return None\n",
    "\n",
    "# Function to lemmatize each word in a given text\n",
    "def lemmatize_text(text):\n",
    "    nltk_tagged = nltk.pos_tag(nltk.word_tokenize(text))\n",
    "    wordnet_tagged = map(lambda x: (x[0], get_wordnet_pos(x[1])), nltk_tagged)\n",
    "    lemmatized_sentence = []\n",
    "    for word, tag in wordnet_tagged:\n",
    "        if tag is None:\n",
    "            # If no tag could be found, add the word as is\n",
    "            lemmatized_sentence.append(word)\n",
    "        else:\n",
    "            # Else use the tag to lemmatize the word\n",
    "            lemmatized_sentence.append(lemmatizer.lemmatize(word, tag))\n",
    "    return \" \".join(lemmatized_sentence)\n",
    "\n",
    "# Apply the lemmatize_text function to the 'Review' column\n",
    "reviews_df['Review'] = reviews_df['Review'].apply(lemmatize_text)\n",
    "\n",
    "# Create an instance of CountVectorizer with stopwords and ngram_range for trigrams\n",
    "stopwords = text.ENGLISH_STOP_WORDS\n",
    "vectorizer = CountVectorizer(stop_words=stopwords, ngram_range=(3, 3), lowercase=True)\n",
    "\n",
    "# Fit and transform the 'Review' column\n",
    "review_vectors = vectorizer.fit_transform(reviews_df['Review'])\n",
    "\n",
    "# Convert the sparse matrix to a DataFrame\n",
    "review_vectors_df = pd.DataFrame.sparse.from_spmatrix(review_vectors, columns=vectorizer.get_feature_names_out())\n",
    "\n",
    "# Compute the word frequencies\n",
    "word_frequencies = review_vectors_df.sum(axis=0)\n",
    "\n",
    "# Sort the word frequencies in descending order\n",
    "sorted_word_frequencies = word_frequencies.sort_values(ascending=False)\n",
    "\n",
    "# Select the top 50 most frequent trigrams\n",
    "top_50_trigrams = sorted_word_frequencies.head(50)\n",
    "\n",
    "# Plot the bar chart\n",
    "plt.figure(figsize=(15, 12))\n",
    "sns.barplot(x=top_50_trigrams.values, y=top_50_trigrams.index)\n",
    "plt.title('Top 50 Most Frequent Trigrams')\n",
    "plt.xlabel('Frequency')\n",
    "plt.ylabel('Trigrams')\n",
    "plt.show()"
   ]
  },
  {
   "cell_type": "markdown",
   "id": "c5d6de16",
   "metadata": {},
   "source": [
    "From the barplot, we can see that the current trigrams give a more accurate reflection of the customer sentiments present in the reviews. Compared to the previous one, more negative comments related to customer service are show (e.g., **\"bad customer service\"**, **\"poor customer service\"**, **\"terrible customer service\"**, **\"horrible customer service\"**).\n",
    "\n",
    "Specific airlines and routes, like **\"low cost airline\"**, **\"air new zealand\"**, **\"air canada rouge\"**, **\"fly american airlines\"**, **\"china southern airlines\"**, **\"fly air canada\"**, and location-based trigrams like **\"ho chi minh\"**, **\"new york jfk\"**, and **\"chi minh city\"** provide insights about specific airlines and routes. These could be popular routes or ones with specific issues.\n",
    "\n",
    "The trigram **\"flight flight attendant\"** appears somewhat strange. It might be the case where two stopwords between \"flight\" and \"flight\" are removed. Or it is due to a mistake or an unusual sentence structure from the original review. For the sake of time, we can ignore this one incident."
   ]
  },
  {
   "cell_type": "markdown",
   "id": "cc26fed0",
   "metadata": {},
   "source": [
    "<a id='pre'></a>\n",
    "## 2. Text Preprocessing\n",
    "\n",
    "Text data preprocessing is a fundamental step in sentiment analysis and regression tasks. By transforming raw, noisy text data into a cleaner, structured format, we enable machine learning models to better understand and learn from the data.\n",
    "\n",
    "Here are some standard steps we have followed and will continue to work with:\n",
    "\n",
    "- **Lowercasing**: This ensures that the same words in different cases are not treated as distinct words by the model. For example, \"Flight\" and \"flight\" will be considered the same.\n",
    "\n",
    "- **Removing punctuation and special characters**: This is to eliminate any non-alphabetical characters that might clutter our data and could potentially confuse our model.\n",
    "\n",
    "- **Tokenization**: This process involves breaking down the text into individual words or 'tokens'. This is useful for many NLP tasks, as it enables the model to analyze words individually.\n",
    "\n",
    "- **Stopwords removal**: Stopwords are commonly used words (like \"is\", \"an\", \"the\") that do not contain much meaningful information and can be safely removed from the text.\n",
    "\n",
    "- **N-gram Creation**: We have created bigrams and trigrams from our text data. These n-grams, phrases of n words, are useful to capture more contextual information compared to individual words.\n",
    "\n",
    "- **Lemmatization**: This step involves reducing words to their root form, which helps the model to understand the underlying meaning without getting distracted by various forms of the same word. For example, \"flights\", \"flight's\", and \"flight\" all become \"flight\". We enhance this process using part-of-speech (POS) tagging, ensuring the word is correctly lemmatized according to its role in the sentence (as a verb, noun, adjective, etc.).\n",
    "\n",
    "Since this process is computationally heavy, it is beneficial to save progress regularly, reducing the risk of data loss from unforeseen interruptions. For this purpose, we include error handling and intermediate data saving steps in our code.\n",
    "\n",
    "Once preprocessed, the cleaned reviews will be stored in a new column, preprocessed_reviews, within our dataframe. At the end of the process, we will save the entire dataframe as a CSV file, establishing a convenient checkpoint for resuming work later or for sharing data."
   ]
  },
  {
   "cell_type": "code",
   "execution_count": 74,
   "id": "85ffaa66",
   "metadata": {},
   "outputs": [
    {
     "name": "stderr",
     "output_type": "stream",
     "text": [
      "100%|████████████████████████████████████████████████████████████████████████| 124301/124301 [1:28:09<00:00, 23.50it/s]\n"
     ]
    },
    {
     "name": "stdout",
     "output_type": "stream",
     "text": [
      "Total time taken:  5294.883579730988 seconds\n"
     ]
    }
   ],
   "source": [
    "from nltk.corpus import wordnet\n",
    "from nltk.corpus import stopwords as nltk_stopwords\n",
    "from tqdm import tqdm\n",
    "tqdm.pandas()\n",
    "\n",
    "# Initialize the WordNetLemmatizer\n",
    "lemmatizer = WordNetLemmatizer()\n",
    "\n",
    "# Create a set of English stopwords\n",
    "stop_words = set(nltk_stopwords.words('english'))\n",
    "stop_words.add(\"wa\")  # Add \"wa\" to stopwords list\n",
    "\n",
    "def get_wordnet_pos(word):\n",
    "    # Map POS tag to first character lemmatize() accepts\n",
    "    tag = nltk.pos_tag([word])[0][1][0].upper()\n",
    "    tag_dict = {\"J\": wordnet.ADJ,\n",
    "                \"N\": wordnet.NOUN,\n",
    "                \"V\": wordnet.VERB,\n",
    "                \"R\": wordnet.ADV}\n",
    "\n",
    "    return tag_dict.get(tag, wordnet.NOUN)\n",
    "\n",
    "def preprocess_text(text):\n",
    "    # Convert to lowercase\n",
    "    text = text.lower()\n",
    "\n",
    "    # Remove punctuation and special characters (keep only alphabets)\n",
    "    text = re.sub('[^a-z]', ' ', text)\n",
    "\n",
    "    # Tokenize, lemmatize each word, and remove stopwords\n",
    "    words = [lemmatizer.lemmatize(w, get_wordnet_pos(w)) for w in nltk.word_tokenize(text) if w not in stop_words]\n",
    "\n",
    "    # Check if words list is empty, if so, return placeholder word\n",
    "    if not words:\n",
    "        return 'emptyreview'  # Insert a placeholder word to prevent an empty string\n",
    "\n",
    "    # Join words back to a sentence and return\n",
    "    return ' '.join(words)\n",
    "\n",
    "# Initialize an empty list to keep track of the processed reviews\n",
    "\n",
    "# Note the start time\n",
    "start_time = time.time()\n",
    "\n",
    "# Preprocess reviews and save results to a new column with progress bar\n",
    "reviews_df['processed_review'] = reviews_df['Review'].progress_apply(preprocess_text)\n",
    "\n",
    "# Save the final result\n",
    "reviews_df.to_csv('final_result.csv')\n",
    "\n",
    "# Note the end time and print the total time taken\n",
    "end_time = time.time()\n",
    "print(\"Total time taken: \", end_time - start_time, \"seconds\")"
   ]
  },
  {
   "cell_type": "markdown",
   "id": "a13241af",
   "metadata": {},
   "source": [
    "It took more than an hour to complete the task!\n",
    "We can read in the saved csv file and work on it from now on."
   ]
  },
  {
   "cell_type": "code",
   "execution_count": 4,
   "id": "c950dd45",
   "metadata": {
    "scrolled": false
   },
   "outputs": [
    {
     "data": {
      "text/html": [
       "<div>\n",
       "<style scoped>\n",
       "    .dataframe tbody tr th:only-of-type {\n",
       "        vertical-align: middle;\n",
       "    }\n",
       "\n",
       "    .dataframe tbody tr th {\n",
       "        vertical-align: top;\n",
       "    }\n",
       "\n",
       "    .dataframe thead th {\n",
       "        text-align: right;\n",
       "    }\n",
       "</style>\n",
       "<table border=\"1\" class=\"dataframe\">\n",
       "  <thead>\n",
       "    <tr style=\"text-align: right;\">\n",
       "      <th></th>\n",
       "      <th>Unnamed: 0</th>\n",
       "      <th>AirlineName</th>\n",
       "      <th>CabinType</th>\n",
       "      <th>EntertainmentRating</th>\n",
       "      <th>FoodRating</th>\n",
       "      <th>GroundServiceRating</th>\n",
       "      <th>OverallScore</th>\n",
       "      <th>Recommended</th>\n",
       "      <th>Review</th>\n",
       "      <th>SeatComfortRating</th>\n",
       "      <th>ServiceRating</th>\n",
       "      <th>TripVerified</th>\n",
       "      <th>ValueRating</th>\n",
       "      <th>WifiRating</th>\n",
       "      <th>MonthYearPublished</th>\n",
       "      <th>processed_review</th>\n",
       "    </tr>\n",
       "  </thead>\n",
       "  <tbody>\n",
       "    <tr>\n",
       "      <th>0</th>\n",
       "      <td>0</td>\n",
       "      <td>AB Aviation</td>\n",
       "      <td>Economy Class</td>\n",
       "      <td>0</td>\n",
       "      <td>4</td>\n",
       "      <td>4</td>\n",
       "      <td>9.0</td>\n",
       "      <td>1</td>\n",
       "      <td>Moroni to Moheli . Turned out to be a pretty d...</td>\n",
       "      <td>4</td>\n",
       "      <td>5</td>\n",
       "      <td>1</td>\n",
       "      <td>3</td>\n",
       "      <td>0</td>\n",
       "      <td>2019-11-01</td>\n",
       "      <td>moroni moheli turn pretty decent airline onlin...</td>\n",
       "    </tr>\n",
       "    <tr>\n",
       "      <th>1</th>\n",
       "      <td>1</td>\n",
       "      <td>AB Aviation</td>\n",
       "      <td>Economy Class</td>\n",
       "      <td>0</td>\n",
       "      <td>1</td>\n",
       "      <td>1</td>\n",
       "      <td>1.0</td>\n",
       "      <td>0</td>\n",
       "      <td>Moroni to Anjouan . It be a very small airline...</td>\n",
       "      <td>2</td>\n",
       "      <td>2</td>\n",
       "      <td>1</td>\n",
       "      <td>2</td>\n",
       "      <td>0</td>\n",
       "      <td>2019-06-01</td>\n",
       "      <td>moroni anjouan small airline ticket advise tur...</td>\n",
       "    </tr>\n",
       "    <tr>\n",
       "      <th>2</th>\n",
       "      <td>2</td>\n",
       "      <td>AB Aviation</td>\n",
       "      <td>Economy Class</td>\n",
       "      <td>0</td>\n",
       "      <td>1</td>\n",
       "      <td>1</td>\n",
       "      <td>1.0</td>\n",
       "      <td>0</td>\n",
       "      <td>Anjouan to Dzaoudzi . A very small airline and...</td>\n",
       "      <td>2</td>\n",
       "      <td>1</td>\n",
       "      <td>1</td>\n",
       "      <td>2</td>\n",
       "      <td>0</td>\n",
       "      <td>2019-06-01</td>\n",
       "      <td>anjouan dzaoudzi small airline airline base co...</td>\n",
       "    </tr>\n",
       "    <tr>\n",
       "      <th>3</th>\n",
       "      <td>3</td>\n",
       "      <td>Aerocaribbean</td>\n",
       "      <td>Economy Class</td>\n",
       "      <td>0</td>\n",
       "      <td>0</td>\n",
       "      <td>0</td>\n",
       "      <td>8.0</td>\n",
       "      <td>1</td>\n",
       "      <td>Havana - Cayo Coco return . A one hour flight ...</td>\n",
       "      <td>0</td>\n",
       "      <td>0</td>\n",
       "      <td>0</td>\n",
       "      <td>4</td>\n",
       "      <td>0</td>\n",
       "      <td>2010-12-01</td>\n",
       "      <td>havana cayo coco return one hour flight old at...</td>\n",
       "    </tr>\n",
       "    <tr>\n",
       "      <th>4</th>\n",
       "      <td>4</td>\n",
       "      <td>Aerocaribbean</td>\n",
       "      <td>NaN</td>\n",
       "      <td>0</td>\n",
       "      <td>0</td>\n",
       "      <td>0</td>\n",
       "      <td>1.0</td>\n",
       "      <td>0</td>\n",
       "      <td>Holguin to Havana last week . Okay apart from ...</td>\n",
       "      <td>0</td>\n",
       "      <td>0</td>\n",
       "      <td>0</td>\n",
       "      <td>0</td>\n",
       "      <td>0</td>\n",
       "      <td>2010-11-01</td>\n",
       "      <td>holguin havana last week okay apart issue dupl...</td>\n",
       "    </tr>\n",
       "  </tbody>\n",
       "</table>\n",
       "</div>"
      ],
      "text/plain": [
       "   Unnamed: 0    AirlineName      CabinType  EntertainmentRating  FoodRating  \\\n",
       "0           0    AB Aviation  Economy Class                    0           4   \n",
       "1           1    AB Aviation  Economy Class                    0           1   \n",
       "2           2    AB Aviation  Economy Class                    0           1   \n",
       "3           3  Aerocaribbean  Economy Class                    0           0   \n",
       "4           4  Aerocaribbean            NaN                    0           0   \n",
       "\n",
       "   GroundServiceRating  OverallScore  Recommended  \\\n",
       "0                    4           9.0            1   \n",
       "1                    1           1.0            0   \n",
       "2                    1           1.0            0   \n",
       "3                    0           8.0            1   \n",
       "4                    0           1.0            0   \n",
       "\n",
       "                                              Review  SeatComfortRating  \\\n",
       "0  Moroni to Moheli . Turned out to be a pretty d...                  4   \n",
       "1  Moroni to Anjouan . It be a very small airline...                  2   \n",
       "2  Anjouan to Dzaoudzi . A very small airline and...                  2   \n",
       "3  Havana - Cayo Coco return . A one hour flight ...                  0   \n",
       "4  Holguin to Havana last week . Okay apart from ...                  0   \n",
       "\n",
       "   ServiceRating  TripVerified  ValueRating  WifiRating MonthYearPublished  \\\n",
       "0              5             1            3           0         2019-11-01   \n",
       "1              2             1            2           0         2019-06-01   \n",
       "2              1             1            2           0         2019-06-01   \n",
       "3              0             0            4           0         2010-12-01   \n",
       "4              0             0            0           0         2010-11-01   \n",
       "\n",
       "                                    processed_review  \n",
       "0  moroni moheli turn pretty decent airline onlin...  \n",
       "1  moroni anjouan small airline ticket advise tur...  \n",
       "2  anjouan dzaoudzi small airline airline base co...  \n",
       "3  havana cayo coco return one hour flight old at...  \n",
       "4  holguin havana last week okay apart issue dupl...  "
      ]
     },
     "execution_count": 4,
     "metadata": {},
     "output_type": "execute_result"
    }
   ],
   "source": [
    "# Read in the processed dataset\n",
    "pr_reviews_df = pd.read_csv('final_result.csv')\n",
    "pr_reviews_df.head()"
   ]
  },
  {
   "cell_type": "code",
   "execution_count": 76,
   "id": "393657ff",
   "metadata": {},
   "outputs": [
    {
     "data": {
      "text/plain": [
       "array([\"Moroni to Moheli . Turned out to be a pretty decent airline . Online booking work well , checkin and boarding be fine and the plane look well maintain . Its a very short flight - just 20 minute or so so i do n't expect much but they still manage to hand our a bottle of water and some biscuit which i though be very nice . Both flight on time .\",\n",
       "       'moroni moheli turn pretty decent airline online book work well checkin boarding fine plane look well maintain short flight minute n expect much still manage hand bottle water biscuit though nice flight time'],\n",
       "      dtype=object)"
      ]
     },
     "execution_count": 76,
     "metadata": {},
     "output_type": "execute_result"
    }
   ],
   "source": [
    "# Compare original and processed texts\n",
    "pr_reviews_df[['Review','processed_review']].values[0]"
   ]
  },
  {
   "cell_type": "markdown",
   "id": "bc198a21",
   "metadata": {},
   "source": [
    "We checked the number of reviews by their overall score in the previous notebook. To refresh our mind, we can draw a quick bar plot for the count of reviews by `OverallScore` again."
   ]
  },
  {
   "cell_type": "code",
   "execution_count": 77,
   "id": "e7d80ae3",
   "metadata": {
    "scrolled": false
   },
   "outputs": [
    {
     "data": {
      "image/png": "[encoded data removed]",
      "text/plain": [
       "<Figure size 800x500 with 1 Axes>"
      ]
     },
     "metadata": {},
     "output_type": "display_data"
    }
   ],
   "source": [
    "# Quick plot for the count of reviews by their overall score\n",
    "ax = pr_reviews_df['OverallScore'].value_counts().sort_index() \\\n",
    "    .plot(kind='bar', title='Count of Reviews by Overall Score', figsize=(8,5), color='cadetblue')\n",
    "ax.set_xlabel('Overall Score')\n",
    "plt.show()"
   ]
  },
  {
   "cell_type": "code",
   "execution_count": 78,
   "id": "a212b7bf",
   "metadata": {},
   "outputs": [
    {
     "data": {
      "text/plain": [
       "0"
      ]
     },
     "execution_count": 78,
     "metadata": {},
     "output_type": "execute_result"
    }
   ],
   "source": [
    "# Check nulls\n",
    "pr_reviews_df['processed_review'].isna().sum().sum()"
   ]
  },
  {
   "cell_type": "markdown",
   "id": "6dd86f8b",
   "metadata": {},
   "source": [
    "<a id='vad'></a>\n",
    "## 3. Initial Sentiment Analysis Using VADER\n",
    "\n",
    "In this section, we will perform an initial sentiment analysis by using VADER (Valence Aware Dictionary and sEntiment Reasoner). It is a sentiment analysis tool specifically targeted at sentiments expressed in social media. VADER uses a combination of qualitative and quantitative methods to perform sentiment analysis. It is based on a lexicon of words where each word is associated with a sentiment intensity. VADER is known for working well for analyzing short texts with subtle emotions. \n",
    "\n",
    "Despite its efficiency and easiness to use, VADER is not equipped to capture nuances and contexts. Nonetheless, it provides us with a good starting point for understanding the sentiment expressed in our airlines reviews."
   ]
  },
  {
   "cell_type": "markdown",
   "id": "c6855d0b",
   "metadata": {},
   "source": [
    "<a id='sec3.1'></a>\n",
    "### 3.1. Vader Sentiment Scoring"
   ]
  },
  {
   "cell_type": "code",
   "execution_count": 5,
   "id": "31d88c85",
   "metadata": {},
   "outputs": [],
   "source": [
    "import nltk\n",
    "#nltk.download('vader_lexicon')\n",
    "from nltk.sentiment.vader import SentimentIntensityAnalyzer\n",
    "\n",
    "# Initialize the VADER sentiment intensity analyzer\n",
    "sia = SentimentIntensityAnalyzer()"
   ]
  },
  {
   "cell_type": "markdown",
   "id": "54e1c94c",
   "metadata": {},
   "source": [
    "With the sentiment intensity analyzer, now we can compute the sentiment scores for our reviews. It provides three distinct measures: positivity, neutrality, and negativity, alongside a composite score that encapsulates the overall sentiment of the text. We can test the analyzer to see how it returns scores for two simple sentences- one positive and the other negative."
   ]
  },
  {
   "cell_type": "code",
   "execution_count": 79,
   "id": "dfd818b3",
   "metadata": {},
   "outputs": [
    {
     "data": {
      "text/plain": [
       "{'neg': 0.0, 'neu': 0.406, 'pos': 0.594, 'compound': 0.6588}"
      ]
     },
     "execution_count": 79,
     "metadata": {},
     "output_type": "execute_result"
    }
   ],
   "source": [
    "# Testing examples\n",
    "sia.polarity_scores(\"This airline is great!\")"
   ]
  },
  {
   "cell_type": "code",
   "execution_count": 80,
   "id": "6607bbb4",
   "metadata": {},
   "outputs": [
    {
     "data": {
      "text/plain": [
       "{'neg': 0.516, 'neu': 0.484, 'pos': 0.0, 'compound': -0.4939}"
      ]
     },
     "execution_count": 80,
     "metadata": {},
     "output_type": "execute_result"
    }
   ],
   "source": [
    "# Testing examples\n",
    "sia.polarity_scores(\"The service was disappointing\")"
   ]
  },
  {
   "cell_type": "markdown",
   "id": "cd29d4ed",
   "metadata": {},
   "source": [
    "Our testing results show that the VADER analyzer performs well in gauging the sentiment expressed in our testing cases. We will apply the VADER analyzer to all our reviews, adding the compound score to our DataFrame as a new column called `vader_score`. This approach gives us a preliminary yet insightful understanding of the sentiment trends in our review dataset."
   ]
  },
  {
   "cell_type": "code",
   "execution_count": 6,
   "id": "7f638949",
   "metadata": {},
   "outputs": [
    {
     "data": {
      "text/html": [
       "<div>\n",
       "<style scoped>\n",
       "    .dataframe tbody tr th:only-of-type {\n",
       "        vertical-align: middle;\n",
       "    }\n",
       "\n",
       "    .dataframe tbody tr th {\n",
       "        vertical-align: top;\n",
       "    }\n",
       "\n",
       "    .dataframe thead th {\n",
       "        text-align: right;\n",
       "    }\n",
       "</style>\n",
       "<table border=\"1\" class=\"dataframe\">\n",
       "  <thead>\n",
       "    <tr style=\"text-align: right;\">\n",
       "      <th></th>\n",
       "      <th>Unnamed: 0</th>\n",
       "      <th>AirlineName</th>\n",
       "      <th>CabinType</th>\n",
       "      <th>EntertainmentRating</th>\n",
       "      <th>FoodRating</th>\n",
       "      <th>GroundServiceRating</th>\n",
       "      <th>OverallScore</th>\n",
       "      <th>Recommended</th>\n",
       "      <th>Review</th>\n",
       "      <th>SeatComfortRating</th>\n",
       "      <th>ServiceRating</th>\n",
       "      <th>TripVerified</th>\n",
       "      <th>ValueRating</th>\n",
       "      <th>WifiRating</th>\n",
       "      <th>MonthYearPublished</th>\n",
       "      <th>processed_review</th>\n",
       "      <th>vader_score</th>\n",
       "    </tr>\n",
       "  </thead>\n",
       "  <tbody>\n",
       "    <tr>\n",
       "      <th>0</th>\n",
       "      <td>0</td>\n",
       "      <td>AB Aviation</td>\n",
       "      <td>Economy Class</td>\n",
       "      <td>0</td>\n",
       "      <td>4</td>\n",
       "      <td>4</td>\n",
       "      <td>9.0</td>\n",
       "      <td>1</td>\n",
       "      <td>Moroni to Moheli . Turned out to be a pretty d...</td>\n",
       "      <td>4</td>\n",
       "      <td>5</td>\n",
       "      <td>1</td>\n",
       "      <td>3</td>\n",
       "      <td>0</td>\n",
       "      <td>2019-11-01</td>\n",
       "      <td>moroni moheli turn pretty decent airline onlin...</td>\n",
       "      <td>0.9217</td>\n",
       "    </tr>\n",
       "    <tr>\n",
       "      <th>1</th>\n",
       "      <td>1</td>\n",
       "      <td>AB Aviation</td>\n",
       "      <td>Economy Class</td>\n",
       "      <td>0</td>\n",
       "      <td>1</td>\n",
       "      <td>1</td>\n",
       "      <td>1.0</td>\n",
       "      <td>0</td>\n",
       "      <td>Moroni to Anjouan . It be a very small airline...</td>\n",
       "      <td>2</td>\n",
       "      <td>2</td>\n",
       "      <td>1</td>\n",
       "      <td>2</td>\n",
       "      <td>0</td>\n",
       "      <td>2019-06-01</td>\n",
       "      <td>moroni anjouan small airline ticket advise tur...</td>\n",
       "      <td>-0.0258</td>\n",
       "    </tr>\n",
       "    <tr>\n",
       "      <th>2</th>\n",
       "      <td>2</td>\n",
       "      <td>AB Aviation</td>\n",
       "      <td>Economy Class</td>\n",
       "      <td>0</td>\n",
       "      <td>1</td>\n",
       "      <td>1</td>\n",
       "      <td>1.0</td>\n",
       "      <td>0</td>\n",
       "      <td>Anjouan to Dzaoudzi . A very small airline and...</td>\n",
       "      <td>2</td>\n",
       "      <td>1</td>\n",
       "      <td>1</td>\n",
       "      <td>2</td>\n",
       "      <td>0</td>\n",
       "      <td>2019-06-01</td>\n",
       "      <td>anjouan dzaoudzi small airline airline base co...</td>\n",
       "      <td>0.8122</td>\n",
       "    </tr>\n",
       "    <tr>\n",
       "      <th>3</th>\n",
       "      <td>3</td>\n",
       "      <td>Aerocaribbean</td>\n",
       "      <td>Economy Class</td>\n",
       "      <td>0</td>\n",
       "      <td>0</td>\n",
       "      <td>0</td>\n",
       "      <td>8.0</td>\n",
       "      <td>1</td>\n",
       "      <td>Havana - Cayo Coco return . A one hour flight ...</td>\n",
       "      <td>0</td>\n",
       "      <td>0</td>\n",
       "      <td>0</td>\n",
       "      <td>4</td>\n",
       "      <td>0</td>\n",
       "      <td>2010-12-01</td>\n",
       "      <td>havana cayo coco return one hour flight old at...</td>\n",
       "      <td>0.7609</td>\n",
       "    </tr>\n",
       "    <tr>\n",
       "      <th>4</th>\n",
       "      <td>4</td>\n",
       "      <td>Aerocaribbean</td>\n",
       "      <td>NaN</td>\n",
       "      <td>0</td>\n",
       "      <td>0</td>\n",
       "      <td>0</td>\n",
       "      <td>1.0</td>\n",
       "      <td>0</td>\n",
       "      <td>Holguin to Havana last week . Okay apart from ...</td>\n",
       "      <td>0</td>\n",
       "      <td>0</td>\n",
       "      <td>0</td>\n",
       "      <td>0</td>\n",
       "      <td>0</td>\n",
       "      <td>2010-11-01</td>\n",
       "      <td>holguin havana last week okay apart issue dupl...</td>\n",
       "      <td>-0.5106</td>\n",
       "    </tr>\n",
       "  </tbody>\n",
       "</table>\n",
       "</div>"
      ],
      "text/plain": [
       "   Unnamed: 0    AirlineName      CabinType  EntertainmentRating  FoodRating  \\\n",
       "0           0    AB Aviation  Economy Class                    0           4   \n",
       "1           1    AB Aviation  Economy Class                    0           1   \n",
       "2           2    AB Aviation  Economy Class                    0           1   \n",
       "3           3  Aerocaribbean  Economy Class                    0           0   \n",
       "4           4  Aerocaribbean            NaN                    0           0   \n",
       "\n",
       "   GroundServiceRating  OverallScore  Recommended  \\\n",
       "0                    4           9.0            1   \n",
       "1                    1           1.0            0   \n",
       "2                    1           1.0            0   \n",
       "3                    0           8.0            1   \n",
       "4                    0           1.0            0   \n",
       "\n",
       "                                              Review  SeatComfortRating  \\\n",
       "0  Moroni to Moheli . Turned out to be a pretty d...                  4   \n",
       "1  Moroni to Anjouan . It be a very small airline...                  2   \n",
       "2  Anjouan to Dzaoudzi . A very small airline and...                  2   \n",
       "3  Havana - Cayo Coco return . A one hour flight ...                  0   \n",
       "4  Holguin to Havana last week . Okay apart from ...                  0   \n",
       "\n",
       "   ServiceRating  TripVerified  ValueRating  WifiRating MonthYearPublished  \\\n",
       "0              5             1            3           0         2019-11-01   \n",
       "1              2             1            2           0         2019-06-01   \n",
       "2              1             1            2           0         2019-06-01   \n",
       "3              0             0            4           0         2010-12-01   \n",
       "4              0             0            0           0         2010-11-01   \n",
       "\n",
       "                                    processed_review  vader_score  \n",
       "0  moroni moheli turn pretty decent airline onlin...       0.9217  \n",
       "1  moroni anjouan small airline ticket advise tur...      -0.0258  \n",
       "2  anjouan dzaoudzi small airline airline base co...       0.8122  \n",
       "3  havana cayo coco return one hour flight old at...       0.7609  \n",
       "4  holguin havana last week okay apart issue dupl...      -0.5106  "
      ]
     },
     "execution_count": 6,
     "metadata": {},
     "output_type": "execute_result"
    }
   ],
   "source": [
    "# Apply VADER to all reviews and get the compound score\n",
    "pr_reviews_df['vader_score'] = pr_reviews_df['processed_review'].apply(lambda review: sia.polarity_scores(review)['compound'])\n",
    "\n",
    "# Check the result\n",
    "pr_reviews_df.head()"
   ]
  },
  {
   "cell_type": "markdown",
   "id": "dfe47b6b",
   "metadata": {},
   "source": [
    "<a id='sec3.2'></a>\n",
    "### 3.2. VADER Result Visualization"
   ]
  },
  {
   "cell_type": "code",
   "execution_count": 7,
   "id": "e59f3e8e",
   "metadata": {},
   "outputs": [
    {
     "data": {
      "image/png": "[encoded data removed]",
      "text/plain": [
       "<Figure size 640x480 with 1 Axes>"
      ]
     },
     "metadata": {},
     "output_type": "display_data"
    }
   ],
   "source": [
    "ax = sns.barplot(data=pr_reviews_df, x='OverallScore', y='vader_score')\n",
    "ax.set_title('VADER Sentiment Score vs. Customer Score')\n",
    "ax.set_xlabel('Overall Score by Customers')\n",
    "ax.set_ylabel('VADER Sentiment Score')\n",
    "plt.show()"
   ]
  },
  {
   "cell_type": "markdown",
   "id": "61908e93",
   "metadata": {},
   "source": [
    "The black lines at the top of the bars are the error bars. In overall, they are small, meaning that the sentiment scores are close to the mean, indicating consistency. Scores around 3 ~ 4 tend to have relatively larger error bars. It indicates that the reviews for the mid-range scores are quite mixed in sentiment, leading to a high variability in the VADER scores. "
   ]
  },
  {
   "cell_type": "code",
   "execution_count": 83,
   "id": "e332ad02",
   "metadata": {},
   "outputs": [
    {
     "data": {
      "image/png": "[encoded data removed]",
      "text/plain": [
       "<Figure size 640x480 with 1 Axes>"
      ]
     },
     "metadata": {},
     "output_type": "display_data"
    }
   ],
   "source": [
    "plt.hist(pr_reviews_df['vader_score'], bins=20, color='cadetblue', edgecolor='black')\n",
    "plt.xlabel('VADER Sentiment Score')\n",
    "plt.ylabel('Frequency')\n",
    "plt.title('Distribution of VADER Sentiment Scores')\n",
    "plt.show()"
   ]
  },
  {
   "cell_type": "markdown",
   "id": "c2aa4c91",
   "metadata": {},
   "source": [
    "The histogram shows that the dataset contains a large number of very positive reviews, fewer neutral or slightly negative reviews, and a moderate number of slightly and highly positive reviews. "
   ]
  },
  {
   "cell_type": "code",
   "execution_count": 84,
   "id": "685d20e0",
   "metadata": {
    "scrolled": false
   },
   "outputs": [
    {
     "data": {
      "image/png": "[encoded data removed]",
      "text/plain": [
       "<Figure size 1200x500 with 1 Axes>"
      ]
     },
     "metadata": {},
     "output_type": "display_data"
    }
   ],
   "source": [
    "# Convert 'MonthYearPublished' to datetime format\n",
    "pr_reviews_df['MonthYearPublished'] = pd.to_datetime(pr_reviews_df['MonthYearPublished'])\n",
    "\n",
    "# Resample by month and compute the mean of 'vader_score' for each month\n",
    "monthly_avg_scores = pr_reviews_df.resample('M', on='MonthYearPublished')['vader_score'].mean()\n",
    "\n",
    "# Initialize a new figure with a specified size\n",
    "plt.figure(figsize=(12, 5))\n",
    "\n",
    "# Create a line plot\n",
    "plt.plot(monthly_avg_scores.index, monthly_avg_scores.values)\n",
    "\n",
    "# Set labels and title\n",
    "plt.xlabel('Date')\n",
    "plt.ylabel('Monthly Average VADER Sentiment Score')\n",
    "plt.title('Monthly Average Sentiment Scores Over Time')\n",
    "\n",
    "# Display the plot\n",
    "plt.show()"
   ]
  },
  {
   "cell_type": "markdown",
   "id": "0898645b",
   "metadata": {},
   "source": [
    "There are some discontinuities in the line, indicating that there were no reviews collected, or possibly that there was an issue with the data collection process during these periods. It is also possible that data cleaning and preprocessing steps ended up removing entries from certain periods of time.\n",
    "\n",
    "The plot shows that the average sentiment score of the reviews has been decreasing over time. In other words, the sentiment expressed in the reviews has been getting more negative on average. However, it requires an in-depth analysis. A possible explanation can be that as the number of reviews increases, the sentiment may converge towards a more neutral or negative tone due to the broader representation of customer experiences. It is also possible that as time passes, customers might have increased expectations."
   ]
  },
  {
   "cell_type": "code",
   "execution_count": 85,
   "id": "31d3e1d1",
   "metadata": {},
   "outputs": [
    {
     "data": {
      "image/png": "[encoded data removed]",
      "text/plain": [
       "<Figure size 640x480 with 1 Axes>"
      ]
     },
     "metadata": {},
     "output_type": "display_data"
    }
   ],
   "source": [
    "# Vader sentiment score by cabin type\n",
    "sns.boxplot(data=pr_reviews_df, x='CabinType', y='vader_score')\n",
    "plt.xlabel('Category')\n",
    "plt.ylabel('Compound Sentiment Score')\n",
    "plt.title('Sentiment Scores by Category')\n",
    "plt.show()"
   ]
  },
  {
   "cell_type": "markdown",
   "id": "c7364afc",
   "metadata": {},
   "source": [
    "The observed medians within each box reveal that sentiment scores are skewed in all four categories. The **Business Class** category, in particular, is the most positively skewed, suggesting it generally receives higher sentiment scores. On the other hand, the **Economy Class** category demonstrates a relative lesser degree of positive skewness, indicating a more balanced mix of sentiment scores.\n",
    "\n",
    "The box size for **Business Class** is the smallest, indicating more homogeneity in customer sentiments compared to other categories. This suggests that customer experiences for **Business Class** are more consistently positive, with fewer divergent opinions.\n",
    "\n",
    "Notably, the **Business Class** category has a significant number of outliers, reflected by unusually low sentiment scores compared to the predominantly positive reviews. These outliers suggest that there are a few customers who had markedly different experiences, warranting further investigation.\n",
    "\n",
    "The **Economy Class** and **Premium Economy** categories, in contrast, have longer boxes, indicating a larger interquartile range. This suggests a greater diversity of sentiment within these categories, reflecting a broader spectrum of customer experiences and opinions."
   ]
  },
  {
   "cell_type": "markdown",
   "id": "53bedd9a",
   "metadata": {},
   "source": [
    "<a id='rob'></a>\n",
    "## 4. Advanced Sentiment Analysis Using RoBERTa\n",
    "\n",
    "In this section, we will perform advanced sentiment analysis using RoBERTa (Robustly optimized BERT approach). RoBERTa is a transformer-based model, a deep learning model specifically designed for understanding the context and nuances of natural language. It leverages the power of BERT (Bidirectional Encoder Representations from Transformers) while addressing its limitations and introducing several enhancements for improved performance.\n",
    "\n",
    "Unlike VADER, RoBERTa doesn't rely on a predefined lexicon of words. Instead, it learns from the structure and context of language by being pre-trained on a large corpus of text data. This makes RoBERTa highly capable of understanding complex language semantics, capturing the nuances and contexts that might be present in our airline reviews.\n",
    "\n",
    "Through this section, we aim to leverage the robustness of RoBERTa in handling context-dependent sentiment and comparing the results with those from our initial VADER analysis."
   ]
  },
  {
   "cell_type": "code",
   "execution_count": 55,
   "id": "5d083fc5",
   "metadata": {},
   "outputs": [
    {
     "name": "stdout",
     "output_type": "stream",
     "text": [
      "Requirement already satisfied: transformers in c:\\users\\treel\\anaconda3\\lib\\site-packages (4.27.4)\n",
      "Requirement already satisfied: tokenizers!=0.11.3,<0.14,>=0.11.1 in c:\\users\\treel\\anaconda3\\lib\\site-packages (from transformers) (0.13.3)\n",
      "Requirement already satisfied: tqdm>=4.27 in c:\\users\\treel\\anaconda3\\lib\\site-packages (from transformers) (4.64.1)\n",
      "Requirement already satisfied: numpy>=1.17 in c:\\users\\treel\\anaconda3\\lib\\site-packages (from transformers) (1.24.2)\n",
      "Requirement already satisfied: regex!=2019.12.17 in c:\\users\\treel\\anaconda3\\lib\\site-packages (from transformers) (2022.7.9)\n",
      "Requirement already satisfied: packaging>=20.0 in c:\\users\\treel\\anaconda3\\lib\\site-packages (from transformers) (21.3)\n",
      "Requirement already satisfied: huggingface-hub<1.0,>=0.11.0 in c:\\users\\treel\\anaconda3\\lib\\site-packages (from transformers) (0.13.4)\n",
      "Requirement already satisfied: filelock in c:\\users\\treel\\anaconda3\\lib\\site-packages (from transformers) (3.6.0)\n",
      "Requirement already satisfied: pyyaml>=5.1 in c:\\users\\treel\\anaconda3\\lib\\site-packages (from transformers) (6.0)\n",
      "Requirement already satisfied: requests in c:\\users\\treel\\anaconda3\\lib\\site-packages (from transformers) (2.28.1)\n",
      "Requirement already satisfied: typing-extensions>=3.7.4.3 in c:\\users\\treel\\anaconda3\\lib\\site-packages (from huggingface-hub<1.0,>=0.11.0->transformers) (4.3.0)\n",
      "Requirement already satisfied: pyparsing!=3.0.5,>=2.0.2 in c:\\users\\treel\\anaconda3\\lib\\site-packages (from packaging>=20.0->transformers) (3.0.9)\n",
      "Requirement already satisfied: colorama in c:\\users\\treel\\anaconda3\\lib\\site-packages (from tqdm>=4.27->transformers) (0.4.6)\n",
      "Requirement already satisfied: certifi>=2017.4.17 in c:\\users\\treel\\anaconda3\\lib\\site-packages (from requests->transformers) (2022.9.14)\n",
      "Requirement already satisfied: idna<4,>=2.5 in c:\\users\\treel\\anaconda3\\lib\\site-packages (from requests->transformers) (3.3)\n",
      "Requirement already satisfied: charset-normalizer<3,>=2 in c:\\users\\treel\\anaconda3\\lib\\site-packages (from requests->transformers) (2.0.4)\n",
      "Requirement already satisfied: urllib3<1.27,>=1.21.1 in c:\\users\\treel\\anaconda3\\lib\\site-packages (from requests->transformers) (1.26.11)\n"
     ]
    },
    {
     "name": "stderr",
     "output_type": "stream",
     "text": [
      "\n",
      "[notice] A new release of pip is available: 23.0.1 -> 23.1.2\n",
      "[notice] To update, run: python.exe -m pip install --upgrade pip\n"
     ]
    }
   ],
   "source": [
    "#!pip install transformers"
   ]
  },
  {
   "cell_type": "code",
   "execution_count": 57,
   "id": "221f3ba1",
   "metadata": {},
   "outputs": [
    {
     "name": "stdout",
     "output_type": "stream",
     "text": [
      "Requirement already satisfied: pip in c:\\users\\treel\\anaconda3\\lib\\site-packages (23.0.1)\n",
      "Collecting pip\n",
      "  Using cached pip-23.1.2-py3-none-any.whl (2.1 MB)\n",
      "Installing collected packages: pip\n",
      "  Attempting uninstall: pip\n",
      "    Found existing installation: pip 23.0.1\n",
      "    Uninstalling pip-23.0.1:\n",
      "      Successfully uninstalled pip-23.0.1\n",
      "Successfully installed pip-23.1.2\n",
      "Note: you may need to restart the kernel to use updated packages.\n"
     ]
    }
   ],
   "source": [
    "#pip install --upgrade pip"
   ]
  },
  {
   "cell_type": "markdown",
   "id": "82858722",
   "metadata": {},
   "source": [
    "<a id='sec4.1'></a>\n",
    "### 4.1. Generating Word Embeddings with RoBERTa"
   ]
  },
  {
   "cell_type": "code",
   "execution_count": 86,
   "id": "7da70202",
   "metadata": {
    "scrolled": true
   },
   "outputs": [
    {
     "name": "stderr",
     "output_type": "stream",
     "text": [
      "Some weights of the model checkpoint at roberta-base were not used when initializing RobertaModel: ['lm_head.decoder.weight', 'lm_head.bias', 'lm_head.dense.bias', 'lm_head.dense.weight', 'lm_head.layer_norm.weight', 'lm_head.layer_norm.bias']\n",
      "- This IS expected if you are initializing RobertaModel from the checkpoint of a model trained on another task or with another architecture (e.g. initializing a BertForSequenceClassification model from a BertForPreTraining model).\n",
      "- This IS NOT expected if you are initializing RobertaModel from the checkpoint of a model that you expect to be exactly identical (initializing a BertForSequenceClassification model from a BertForSequenceClassification model).\n",
      "Processing batch 1/125: 100%|██████████████████████████████████████████████████████| 1000/1000 [06:15<00:00,  2.66it/s]\n",
      "Processing batch 2/125: 100%|██████████████████████████████████████████████████████| 1000/1000 [07:15<00:00,  2.29it/s]\n",
      "Processing batch 3/125: 100%|██████████████████████████████████████████████████████| 1000/1000 [07:48<00:00,  2.13it/s]\n",
      "Processing batch 4/125: 100%|██████████████████████████████████████████████████████| 1000/1000 [07:38<00:00,  2.18it/s]\n",
      "Processing batch 5/125: 100%|██████████████████████████████████████████████████████| 1000/1000 [07:26<00:00,  2.24it/s]\n",
      "Processing batch 6/125: 100%|██████████████████████████████████████████████████████| 1000/1000 [07:24<00:00,  2.25it/s]\n",
      "Processing batch 7/125: 100%|██████████████████████████████████████████████████████| 1000/1000 [07:30<00:00,  2.22it/s]\n",
      "Processing batch 8/125: 100%|██████████████████████████████████████████████████████| 1000/1000 [08:04<00:00,  2.06it/s]\n",
      "Processing batch 9/125:  78%|██████████████████████████████████████████▋            | 776/1000 [05:28<01:28,  2.54it/s]Token indices sequence length is longer than the specified maximum sequence length for this model (1116 > 512). Running this sequence through the model will result in indexing errors\n",
      "Processing batch 9/125:  78%|██████████████████████████████████████████▋            | 776/1000 [05:28<01:34,  2.36it/s]\n"
     ]
    },
    {
     "ename": "RuntimeError",
     "evalue": "The expanded size of the tensor (1116) must match the existing size (514) at non-singleton dimension 1.  Target sizes: [1, 1116].  Tensor sizes: [1, 514]",
     "output_type": "error",
     "traceback": [
      "\u001b[1;31m---------------------------------------------------------------------------\u001b[0m",
      "\u001b[1;31mRuntimeError\u001b[0m                              Traceback (most recent call last)",
      "\u001b[1;32m~\\AppData\\Local\\Temp\\ipykernel_29424\\1761527647.py\u001b[0m in \u001b[0;36m<module>\u001b[1;34m\u001b[0m\n\u001b[0;32m     35\u001b[0m         \u001b[1;31m# Get the embeddings\u001b[0m\u001b[1;33m\u001b[0m\u001b[1;33m\u001b[0m\u001b[0m\n\u001b[0;32m     36\u001b[0m         \u001b[1;32mwith\u001b[0m \u001b[0mtorch\u001b[0m\u001b[1;33m.\u001b[0m\u001b[0mno_grad\u001b[0m\u001b[1;33m(\u001b[0m\u001b[1;33m)\u001b[0m\u001b[1;33m:\u001b[0m\u001b[1;33m\u001b[0m\u001b[1;33m\u001b[0m\u001b[0m\n\u001b[1;32m---> 37\u001b[1;33m             \u001b[0mlast_hidden_states\u001b[0m \u001b[1;33m=\u001b[0m \u001b[0mmodel\u001b[0m\u001b[1;33m(\u001b[0m\u001b[0minput_ids\u001b[0m\u001b[1;33m)\u001b[0m\u001b[1;33m[\u001b[0m\u001b[1;36m0\u001b[0m\u001b[1;33m]\u001b[0m  \u001b[1;31m# Models outputs are now tuples\u001b[0m\u001b[1;33m\u001b[0m\u001b[1;33m\u001b[0m\u001b[0m\n\u001b[0m\u001b[0;32m     38\u001b[0m \u001b[1;33m\u001b[0m\u001b[0m\n\u001b[0;32m     39\u001b[0m         \u001b[1;31m# Take the embedding of the [CLS] token which can be used as the embedding for the entire text\u001b[0m\u001b[1;33m\u001b[0m\u001b[1;33m\u001b[0m\u001b[0m\n",
      "\u001b[1;32m~\\anaconda3\\lib\\site-packages\\torch\\nn\\modules\\module.py\u001b[0m in \u001b[0;36m_call_impl\u001b[1;34m(self, *args, **kwargs)\u001b[0m\n\u001b[0;32m   1499\u001b[0m                 \u001b[1;32mor\u001b[0m \u001b[0m_global_backward_pre_hooks\u001b[0m \u001b[1;32mor\u001b[0m \u001b[0m_global_backward_hooks\u001b[0m\u001b[1;33m\u001b[0m\u001b[1;33m\u001b[0m\u001b[0m\n\u001b[0;32m   1500\u001b[0m                 or _global_forward_hooks or _global_forward_pre_hooks):\n\u001b[1;32m-> 1501\u001b[1;33m             \u001b[1;32mreturn\u001b[0m \u001b[0mforward_call\u001b[0m\u001b[1;33m(\u001b[0m\u001b[1;33m*\u001b[0m\u001b[0margs\u001b[0m\u001b[1;33m,\u001b[0m \u001b[1;33m**\u001b[0m\u001b[0mkwargs\u001b[0m\u001b[1;33m)\u001b[0m\u001b[1;33m\u001b[0m\u001b[1;33m\u001b[0m\u001b[0m\n\u001b[0m\u001b[0;32m   1502\u001b[0m         \u001b[1;31m# Do not call functions when jit is used\u001b[0m\u001b[1;33m\u001b[0m\u001b[1;33m\u001b[0m\u001b[0m\n\u001b[0;32m   1503\u001b[0m         \u001b[0mfull_backward_hooks\u001b[0m\u001b[1;33m,\u001b[0m \u001b[0mnon_full_backward_hooks\u001b[0m \u001b[1;33m=\u001b[0m \u001b[1;33m[\u001b[0m\u001b[1;33m]\u001b[0m\u001b[1;33m,\u001b[0m \u001b[1;33m[\u001b[0m\u001b[1;33m]\u001b[0m\u001b[1;33m\u001b[0m\u001b[1;33m\u001b[0m\u001b[0m\n",
      "\u001b[1;32m~\\anaconda3\\lib\\site-packages\\transformers\\models\\roberta\\modeling_roberta.py\u001b[0m in \u001b[0;36mforward\u001b[1;34m(self, input_ids, attention_mask, token_type_ids, position_ids, head_mask, inputs_embeds, encoder_hidden_states, encoder_attention_mask, past_key_values, use_cache, output_attentions, output_hidden_states, return_dict)\u001b[0m\n\u001b[0;32m    816\u001b[0m             \u001b[1;32mif\u001b[0m \u001b[0mhasattr\u001b[0m\u001b[1;33m(\u001b[0m\u001b[0mself\u001b[0m\u001b[1;33m.\u001b[0m\u001b[0membeddings\u001b[0m\u001b[1;33m,\u001b[0m \u001b[1;34m\"token_type_ids\"\u001b[0m\u001b[1;33m)\u001b[0m\u001b[1;33m:\u001b[0m\u001b[1;33m\u001b[0m\u001b[1;33m\u001b[0m\u001b[0m\n\u001b[0;32m    817\u001b[0m                 \u001b[0mbuffered_token_type_ids\u001b[0m \u001b[1;33m=\u001b[0m \u001b[0mself\u001b[0m\u001b[1;33m.\u001b[0m\u001b[0membeddings\u001b[0m\u001b[1;33m.\u001b[0m\u001b[0mtoken_type_ids\u001b[0m\u001b[1;33m[\u001b[0m\u001b[1;33m:\u001b[0m\u001b[1;33m,\u001b[0m \u001b[1;33m:\u001b[0m\u001b[0mseq_length\u001b[0m\u001b[1;33m]\u001b[0m\u001b[1;33m\u001b[0m\u001b[1;33m\u001b[0m\u001b[0m\n\u001b[1;32m--> 818\u001b[1;33m                 \u001b[0mbuffered_token_type_ids_expanded\u001b[0m \u001b[1;33m=\u001b[0m \u001b[0mbuffered_token_type_ids\u001b[0m\u001b[1;33m.\u001b[0m\u001b[0mexpand\u001b[0m\u001b[1;33m(\u001b[0m\u001b[0mbatch_size\u001b[0m\u001b[1;33m,\u001b[0m \u001b[0mseq_length\u001b[0m\u001b[1;33m)\u001b[0m\u001b[1;33m\u001b[0m\u001b[1;33m\u001b[0m\u001b[0m\n\u001b[0m\u001b[0;32m    819\u001b[0m                 \u001b[0mtoken_type_ids\u001b[0m \u001b[1;33m=\u001b[0m \u001b[0mbuffered_token_type_ids_expanded\u001b[0m\u001b[1;33m\u001b[0m\u001b[1;33m\u001b[0m\u001b[0m\n\u001b[0;32m    820\u001b[0m             \u001b[1;32melse\u001b[0m\u001b[1;33m:\u001b[0m\u001b[1;33m\u001b[0m\u001b[1;33m\u001b[0m\u001b[0m\n",
      "\u001b[1;31mRuntimeError\u001b[0m: The expanded size of the tensor (1116) must match the existing size (514) at non-singleton dimension 1.  Target sizes: [1, 1116].  Tensor sizes: [1, 514]"
     ]
    }
   ],
   "source": [
    "from transformers import RobertaModel, RobertaTokenizer\n",
    "import torch\n",
    "\n",
    "# Load the tokenizer corresponding to the model (roberta-base)\n",
    "tokenizer = RobertaTokenizer.from_pretrained('roberta-base')\n",
    "\n",
    "# Load the RoBERTa base model\n",
    "model = RobertaModel.from_pretrained('roberta-base')\n",
    "\n",
    "# Define batch size\n",
    "batch_size = 1000\n",
    "\n",
    "# Calculate the number of batches\n",
    "n_batches = int(np.ceil(len(pr_reviews_df) / batch_size))\n",
    "\n",
    "# Start the timer\n",
    "start = time.time()\n",
    "\n",
    "for i in range(n_batches):\n",
    "    # Initialize list to hold embeddings for this batch\n",
    "    batch_embeddings = []\n",
    "    \n",
    "    # Get the start and end index for this batch\n",
    "    start_idx = i * batch_size\n",
    "    end_idx = start_idx + batch_size\n",
    "    \n",
    "    # Get the reviews for this batch\n",
    "    batch_reviews = pr_reviews_df['processed_review'].iloc[start_idx:end_idx]\n",
    "    \n",
    "    # Loop over the reviews in this batch, apply the model, and store the embeddings\n",
    "    for text in tqdm(batch_reviews, desc=f'Processing batch {i+1}/{n_batches}'):\n",
    "        # Encode the text, adding the (required) special tokens, and converting to PyTorch tensors.\n",
    "        input_ids = tokenizer.encode(text, return_tensors='pt')\n",
    "\n",
    "        # Get the embeddings\n",
    "        with torch.no_grad():\n",
    "            last_hidden_states = model(input_ids)[0]  # Models outputs are now tuples\n",
    "\n",
    "        # Take the embedding of the [CLS] token which can be used as the embedding for the entire text\n",
    "        sentence_embedding = last_hidden_states[0,0,:]\n",
    "\n",
    "        # Convert to numpy array and append to list\n",
    "        batch_embeddings.append(sentence_embedding.numpy())\n",
    "    \n",
    "    # Save embeddings for this batch to disk\n",
    "    np.save(f'batch_{i+1}_embeddings.npy', np.array(batch_embeddings))\n",
    "\n",
    "# Stop the timer and print the time taken\n",
    "end = time.time()\n",
    "print(f\"Time taken: {end - start}\")"
   ]
  },
  {
   "cell_type": "markdown",
   "id": "7a62c0af",
   "metadata": {},
   "source": [
    "The code returns an error message: `RuntimeError: The expanded size of the tensor (1116) must match the existing size (514) at non-singleton dimension 1.  Target sizes: [1, 1116].  Tensor sizes: [1, 514]`\n",
    "\n",
    "It indicates that the input to the model has more tokens (1116) than the model can handle (514). Even though the previous code has a setting to truncate longer sequences, it appears that some of the reviews still exceeds the acceptable token length. To fix this, we need to make sure that all reviews are properly truncated to fit within the model's maximum token capacity.\n",
    "\n",
    "Now, instead of starting all over again, we need to resume our task from where the previous execution left off. It has already completed processing 56 batches, with the results stored as numpy files named like \"batch_1_embeddings.npy\", \"batch_2_embeddings.npy\", and so on. We can modify the code to recognize these already completed batch files and continue the work from the 57th batch.\n",
    "\n",
    "We can use the Python `glob` module for this. This module helps find file paths that match a certain pattern. In our case, we want to find all numpy files that begin with \"batch_\" and end with \"-embeddings.npy\"."
   ]
  },
  {
   "cell_type": "code",
   "execution_count": 87,
   "id": "30a88761",
   "metadata": {
    "scrolled": true
   },
   "outputs": [
    {
     "name": "stderr",
     "output_type": "stream",
     "text": [
      "Some weights of the model checkpoint at roberta-base were not used when initializing RobertaModel: ['lm_head.decoder.weight', 'lm_head.bias', 'lm_head.dense.bias', 'lm_head.dense.weight', 'lm_head.layer_norm.weight', 'lm_head.layer_norm.bias']\n",
      "- This IS expected if you are initializing RobertaModel from the checkpoint of a model trained on another task or with another architecture (e.g. initializing a BertForSequenceClassification model from a BertForPreTraining model).\n",
      "- This IS NOT expected if you are initializing RobertaModel from the checkpoint of a model that you expect to be exactly identical (initializing a BertForSequenceClassification model from a BertForSequenceClassification model).\n",
      "  1%|▋                                                                              | 1/117 [02:42<5:13:58, 162.40s/it]"
     ]
    },
    {
     "name": "stdout",
     "output_type": "stream",
     "text": [
      "Batch 9/125 processed in 162.40 seconds\n"
     ]
    },
    {
     "name": "stderr",
     "output_type": "stream",
     "text": [
      "\r",
      "  2%|█▎                                                                             | 2/117 [05:13<4:58:48, 155.90s/it]"
     ]
    },
    {
     "name": "stdout",
     "output_type": "stream",
     "text": [
      "Batch 10/125 processed in 151.34 seconds\n"
     ]
    },
    {
     "name": "stderr",
     "output_type": "stream",
     "text": [
      "\r",
      "  3%|██                                                                             | 3/117 [07:42<4:50:00, 152.64s/it]"
     ]
    },
    {
     "name": "stdout",
     "output_type": "stream",
     "text": [
      "Batch 11/125 processed in 148.75 seconds\n"
     ]
    },
    {
     "name": "stderr",
     "output_type": "stream",
     "text": [
      "\r",
      "  3%|██▋                                                                            | 4/117 [10:15<4:47:28, 152.64s/it]"
     ]
    },
    {
     "name": "stdout",
     "output_type": "stream",
     "text": [
      "Batch 12/125 processed in 152.65 seconds\n"
     ]
    },
    {
     "name": "stderr",
     "output_type": "stream",
     "text": [
      "\r",
      "  4%|███▍                                                                           | 5/117 [12:52<4:47:57, 154.27s/it]"
     ]
    },
    {
     "name": "stdout",
     "output_type": "stream",
     "text": [
      "Batch 13/125 processed in 157.15 seconds\n"
     ]
    },
    {
     "name": "stderr",
     "output_type": "stream",
     "text": [
      "\r",
      "  5%|████                                                                           | 6/117 [15:06<4:32:56, 147.53s/it]"
     ]
    },
    {
     "name": "stdout",
     "output_type": "stream",
     "text": [
      "Batch 14/125 processed in 134.46 seconds\n"
     ]
    },
    {
     "name": "stderr",
     "output_type": "stream",
     "text": [
      "\r",
      "  6%|████▋                                                                          | 7/117 [17:31<4:28:41, 146.56s/it]"
     ]
    },
    {
     "name": "stdout",
     "output_type": "stream",
     "text": [
      "Batch 15/125 processed in 144.54 seconds\n"
     ]
    },
    {
     "name": "stderr",
     "output_type": "stream",
     "text": [
      "\r",
      "  7%|█████▍                                                                         | 8/117 [20:05<4:30:43, 149.02s/it]"
     ]
    },
    {
     "name": "stdout",
     "output_type": "stream",
     "text": [
      "Batch 16/125 processed in 154.31 seconds\n"
     ]
    },
    {
     "name": "stderr",
     "output_type": "stream",
     "text": [
      "\r",
      "  8%|██████                                                                         | 9/117 [23:03<4:44:45, 158.20s/it]"
     ]
    },
    {
     "name": "stdout",
     "output_type": "stream",
     "text": [
      "Batch 17/125 processed in 178.36 seconds\n"
     ]
    },
    {
     "name": "stderr",
     "output_type": "stream",
     "text": [
      "\r",
      "  9%|██████▋                                                                       | 10/117 [26:06<4:55:23, 165.64s/it]"
     ]
    },
    {
     "name": "stdout",
     "output_type": "stream",
     "text": [
      "Batch 18/125 processed in 182.30 seconds\n"
     ]
    },
    {
     "name": "stderr",
     "output_type": "stream",
     "text": [
      "\r",
      "  9%|███████▎                                                                      | 11/117 [29:39<5:18:14, 180.14s/it]"
     ]
    },
    {
     "name": "stdout",
     "output_type": "stream",
     "text": [
      "Batch 19/125 processed in 213.01 seconds\n"
     ]
    },
    {
     "name": "stderr",
     "output_type": "stream",
     "text": [
      "\r",
      " 10%|████████                                                                      | 12/117 [32:13<5:01:15, 172.15s/it]"
     ]
    },
    {
     "name": "stdout",
     "output_type": "stream",
     "text": [
      "Batch 20/125 processed in 153.87 seconds\n"
     ]
    },
    {
     "name": "stderr",
     "output_type": "stream",
     "text": [
      "\r",
      " 11%|████████▋                                                                     | 13/117 [35:37<5:15:30, 182.02s/it]"
     ]
    },
    {
     "name": "stdout",
     "output_type": "stream",
     "text": [
      "Batch 21/125 processed in 204.75 seconds\n"
     ]
    },
    {
     "name": "stderr",
     "output_type": "stream",
     "text": [
      "\r",
      " 12%|█████████▎                                                                    | 14/117 [38:58<5:22:16, 187.74s/it]"
     ]
    },
    {
     "name": "stdout",
     "output_type": "stream",
     "text": [
      "Batch 22/125 processed in 200.94 seconds\n"
     ]
    },
    {
     "name": "stderr",
     "output_type": "stream",
     "text": [
      "\r",
      " 13%|██████████                                                                    | 15/117 [42:27<5:29:57, 194.10s/it]"
     ]
    },
    {
     "name": "stdout",
     "output_type": "stream",
     "text": [
      "Batch 23/125 processed in 208.83 seconds\n"
     ]
    },
    {
     "name": "stderr",
     "output_type": "stream",
     "text": [
      "\r",
      " 14%|██████████▋                                                                   | 16/117 [45:25<5:18:16, 189.07s/it]"
     ]
    },
    {
     "name": "stdout",
     "output_type": "stream",
     "text": [
      "Batch 24/125 processed in 177.40 seconds\n"
     ]
    },
    {
     "name": "stderr",
     "output_type": "stream",
     "text": [
      "\r",
      " 15%|███████████▎                                                                  | 17/117 [48:30<5:13:08, 187.88s/it]"
     ]
    },
    {
     "name": "stdout",
     "output_type": "stream",
     "text": [
      "Batch 25/125 processed in 185.12 seconds\n"
     ]
    },
    {
     "name": "stderr",
     "output_type": "stream",
     "text": [
      "\r",
      " 15%|████████████                                                                  | 18/117 [52:17<5:29:45, 199.85s/it]"
     ]
    },
    {
     "name": "stdout",
     "output_type": "stream",
     "text": [
      "Batch 26/125 processed in 227.70 seconds\n"
     ]
    },
    {
     "name": "stderr",
     "output_type": "stream",
     "text": [
      "\r",
      " 16%|████████████▋                                                                 | 19/117 [56:19<5:46:55, 212.40s/it]"
     ]
    },
    {
     "name": "stdout",
     "output_type": "stream",
     "text": [
      "Batch 27/125 processed in 241.64 seconds\n"
     ]
    },
    {
     "name": "stderr",
     "output_type": "stream",
     "text": [
      "\r",
      " 17%|█████████████▎                                                                | 20/117 [59:59<5:47:01, 214.65s/it]"
     ]
    },
    {
     "name": "stdout",
     "output_type": "stream",
     "text": [
      "Batch 28/125 processed in 219.90 seconds\n"
     ]
    },
    {
     "name": "stderr",
     "output_type": "stream",
     "text": [
      "\r",
      " 18%|█████████████▋                                                              | 21/117 [1:04:36<6:13:27, 233.41s/it]"
     ]
    },
    {
     "name": "stdout",
     "output_type": "stream",
     "text": [
      "Batch 29/125 processed in 277.13 seconds\n"
     ]
    },
    {
     "name": "stderr",
     "output_type": "stream",
     "text": [
      "\r",
      " 19%|██████████████▎                                                             | 22/117 [1:07:47<5:49:10, 220.53s/it]"
     ]
    },
    {
     "name": "stdout",
     "output_type": "stream",
     "text": [
      "Batch 30/125 processed in 190.50 seconds\n"
     ]
    },
    {
     "name": "stderr",
     "output_type": "stream",
     "text": [
      "\r",
      " 20%|██████████████▉                                                             | 23/117 [1:10:40<5:23:31, 206.51s/it]"
     ]
    },
    {
     "name": "stdout",
     "output_type": "stream",
     "text": [
      "Batch 31/125 processed in 173.79 seconds\n"
     ]
    },
    {
     "name": "stderr",
     "output_type": "stream",
     "text": [
      "\r",
      " 21%|███████████████▌                                                            | 24/117 [1:13:40<5:07:34, 198.43s/it]"
     ]
    },
    {
     "name": "stdout",
     "output_type": "stream",
     "text": [
      "Batch 32/125 processed in 179.60 seconds\n"
     ]
    },
    {
     "name": "stderr",
     "output_type": "stream",
     "text": [
      "\r",
      " 21%|████████████████▏                                                           | 25/117 [1:16:40<4:55:39, 192.82s/it]"
     ]
    },
    {
     "name": "stdout",
     "output_type": "stream",
     "text": [
      "Batch 33/125 processed in 179.72 seconds\n"
     ]
    },
    {
     "name": "stderr",
     "output_type": "stream",
     "text": [
      "\r",
      " 22%|████████████████▉                                                           | 26/117 [1:20:15<5:02:52, 199.70s/it]"
     ]
    },
    {
     "name": "stdout",
     "output_type": "stream",
     "text": [
      "Batch 34/125 processed in 215.73 seconds\n"
     ]
    },
    {
     "name": "stderr",
     "output_type": "stream",
     "text": [
      "\r",
      " 23%|█████████████████▌                                                          | 27/117 [1:24:04<5:12:29, 208.33s/it]"
     ]
    },
    {
     "name": "stdout",
     "output_type": "stream",
     "text": [
      "Batch 35/125 processed in 228.47 seconds\n"
     ]
    },
    {
     "name": "stderr",
     "output_type": "stream",
     "text": [
      "\r",
      " 24%|██████████████████▏                                                         | 28/117 [1:27:26<5:06:25, 206.57s/it]"
     ]
    },
    {
     "name": "stdout",
     "output_type": "stream",
     "text": [
      "Batch 36/125 processed in 202.48 seconds\n"
     ]
    },
    {
     "name": "stderr",
     "output_type": "stream",
     "text": [
      "\r",
      " 25%|██████████████████▊                                                         | 29/117 [1:30:30<4:52:59, 199.77s/it]"
     ]
    },
    {
     "name": "stdout",
     "output_type": "stream",
     "text": [
      "Batch 37/125 processed in 183.89 seconds\n"
     ]
    },
    {
     "name": "stderr",
     "output_type": "stream",
     "text": [
      "\r",
      " 26%|███████████████████▍                                                        | 30/117 [1:33:22<4:37:38, 191.48s/it]"
     ]
    },
    {
     "name": "stdout",
     "output_type": "stream",
     "text": [
      "Batch 38/125 processed in 172.13 seconds\n"
     ]
    },
    {
     "name": "stderr",
     "output_type": "stream",
     "text": [
      "\r",
      " 26%|████████████████████▏                                                       | 31/117 [1:36:55<4:43:24, 197.72s/it]"
     ]
    },
    {
     "name": "stdout",
     "output_type": "stream",
     "text": [
      "Batch 39/125 processed in 212.28 seconds\n"
     ]
    },
    {
     "name": "stderr",
     "output_type": "stream",
     "text": [
      "\r",
      " 27%|████████████████████▊                                                       | 32/117 [1:40:02<4:35:47, 194.67s/it]"
     ]
    },
    {
     "name": "stdout",
     "output_type": "stream",
     "text": [
      "Batch 40/125 processed in 187.56 seconds\n"
     ]
    },
    {
     "name": "stderr",
     "output_type": "stream",
     "text": [
      "\r",
      " 28%|█████████████████████▍                                                      | 33/117 [1:43:58<4:49:41, 206.92s/it]"
     ]
    },
    {
     "name": "stdout",
     "output_type": "stream",
     "text": [
      "Batch 41/125 processed in 235.49 seconds\n"
     ]
    },
    {
     "name": "stderr",
     "output_type": "stream",
     "text": [
      "\r",
      " 29%|██████████████████████                                                      | 34/117 [1:47:57<4:59:43, 216.66s/it]"
     ]
    },
    {
     "name": "stdout",
     "output_type": "stream",
     "text": [
      "Batch 42/125 processed in 239.40 seconds\n"
     ]
    },
    {
     "name": "stderr",
     "output_type": "stream",
     "text": [
      "\r",
      " 30%|██████████████████████▋                                                     | 35/117 [1:51:01<4:42:27, 206.68s/it]"
     ]
    },
    {
     "name": "stdout",
     "output_type": "stream",
     "text": [
      "Batch 43/125 processed in 183.38 seconds\n"
     ]
    },
    {
     "name": "stderr",
     "output_type": "stream",
     "text": [
      "\r",
      " 31%|███████████████████████▍                                                    | 36/117 [1:54:24<4:37:41, 205.70s/it]"
     ]
    },
    {
     "name": "stdout",
     "output_type": "stream",
     "text": [
      "Batch 44/125 processed in 203.42 seconds\n"
     ]
    },
    {
     "name": "stderr",
     "output_type": "stream",
     "text": [
      "\r",
      " 32%|████████████████████████                                                    | 37/117 [1:58:59<5:02:04, 226.55s/it]"
     ]
    },
    {
     "name": "stdout",
     "output_type": "stream",
     "text": [
      "Batch 45/125 processed in 275.19 seconds\n"
     ]
    },
    {
     "name": "stderr",
     "output_type": "stream",
     "text": [
      "\r",
      " 32%|████████████████████████▋                                                   | 38/117 [2:02:21<4:48:29, 219.11s/it]"
     ]
    },
    {
     "name": "stdout",
     "output_type": "stream",
     "text": [
      "Batch 46/125 processed in 201.73 seconds\n"
     ]
    },
    {
     "name": "stderr",
     "output_type": "stream",
     "text": [
      "\r",
      " 33%|█████████████████████████▎                                                  | 39/117 [2:05:24<4:30:52, 208.37s/it]"
     ]
    },
    {
     "name": "stdout",
     "output_type": "stream",
     "text": [
      "Batch 47/125 processed in 183.31 seconds\n"
     ]
    },
    {
     "name": "stderr",
     "output_type": "stream",
     "text": [
      "\r",
      " 34%|█████████████████████████▉                                                  | 40/117 [2:08:28<4:18:01, 201.05s/it]"
     ]
    },
    {
     "name": "stdout",
     "output_type": "stream",
     "text": [
      "Batch 48/125 processed in 183.98 seconds\n"
     ]
    },
    {
     "name": "stderr",
     "output_type": "stream",
     "text": [
      "\r",
      " 35%|██████████████████████████▋                                                 | 41/117 [2:11:17<4:02:17, 191.28s/it]"
     ]
    },
    {
     "name": "stdout",
     "output_type": "stream",
     "text": [
      "Batch 49/125 processed in 168.49 seconds\n"
     ]
    },
    {
     "name": "stderr",
     "output_type": "stream",
     "text": [
      "\r",
      " 36%|███████████████████████████▎                                                | 42/117 [2:13:27<3:36:06, 172.88s/it]"
     ]
    },
    {
     "name": "stdout",
     "output_type": "stream",
     "text": [
      "Batch 50/125 processed in 129.95 seconds\n"
     ]
    },
    {
     "name": "stderr",
     "output_type": "stream",
     "text": [
      "\r",
      " 37%|███████████████████████████▉                                                | 43/117 [2:16:58<3:47:31, 184.48s/it]"
     ]
    },
    {
     "name": "stdout",
     "output_type": "stream",
     "text": [
      "Batch 51/125 processed in 211.54 seconds\n"
     ]
    },
    {
     "name": "stderr",
     "output_type": "stream",
     "text": [
      "\r",
      " 38%|████████████████████████████▌                                               | 44/117 [2:21:55<4:25:23, 218.13s/it]"
     ]
    },
    {
     "name": "stdout",
     "output_type": "stream",
     "text": [
      "Batch 52/125 processed in 296.64 seconds\n"
     ]
    },
    {
     "name": "stderr",
     "output_type": "stream",
     "text": [
      "\r",
      " 38%|█████████████████████████████▏                                              | 45/117 [2:24:44<4:04:05, 203.40s/it]"
     ]
    },
    {
     "name": "stdout",
     "output_type": "stream",
     "text": [
      "Batch 53/125 processed in 169.04 seconds\n"
     ]
    },
    {
     "name": "stderr",
     "output_type": "stream",
     "text": [
      "\r",
      " 39%|█████████████████████████████▉                                              | 46/117 [2:27:28<3:46:53, 191.75s/it]"
     ]
    },
    {
     "name": "stdout",
     "output_type": "stream",
     "text": [
      "Batch 54/125 processed in 164.54 seconds\n"
     ]
    },
    {
     "name": "stderr",
     "output_type": "stream",
     "text": [
      "\r",
      " 40%|██████████████████████████████▌                                             | 47/117 [2:30:08<3:32:18, 181.98s/it]"
     ]
    },
    {
     "name": "stdout",
     "output_type": "stream",
     "text": [
      "Batch 55/125 processed in 159.18 seconds\n"
     ]
    },
    {
     "name": "stderr",
     "output_type": "stream",
     "text": [
      "\r",
      " 41%|███████████████████████████████▏                                            | 48/117 [2:32:47<3:21:37, 175.32s/it]"
     ]
    },
    {
     "name": "stdout",
     "output_type": "stream",
     "text": [
      "Batch 56/125 processed in 159.79 seconds\n"
     ]
    },
    {
     "name": "stderr",
     "output_type": "stream",
     "text": [
      "\r",
      " 42%|███████████████████████████████▊                                            | 49/117 [2:35:20<3:11:00, 168.54s/it]"
     ]
    },
    {
     "name": "stdout",
     "output_type": "stream",
     "text": [
      "Batch 57/125 processed in 152.72 seconds\n"
     ]
    },
    {
     "name": "stderr",
     "output_type": "stream",
     "text": [
      "\r",
      " 43%|████████████████████████████████▍                                           | 50/117 [2:39:53<3:43:18, 199.98s/it]"
     ]
    },
    {
     "name": "stdout",
     "output_type": "stream",
     "text": [
      "Batch 58/125 processed in 273.32 seconds\n"
     ]
    },
    {
     "name": "stderr",
     "output_type": "stream",
     "text": [
      "\r",
      " 44%|█████████████████████████████████▏                                          | 51/117 [2:42:51<3:32:30, 193.20s/it]"
     ]
    },
    {
     "name": "stdout",
     "output_type": "stream",
     "text": [
      "Batch 59/125 processed in 177.37 seconds\n"
     ]
    },
    {
     "name": "stderr",
     "output_type": "stream",
     "text": [
      "\r",
      " 44%|█████████████████████████████████▊                                          | 52/117 [2:45:22<3:15:34, 180.53s/it]"
     ]
    },
    {
     "name": "stdout",
     "output_type": "stream",
     "text": [
      "Batch 60/125 processed in 150.98 seconds\n"
     ]
    },
    {
     "name": "stderr",
     "output_type": "stream",
     "text": [
      "\r",
      " 45%|██████████████████████████████████▍                                         | 53/117 [2:48:18<3:11:04, 179.13s/it]"
     ]
    },
    {
     "name": "stdout",
     "output_type": "stream",
     "text": [
      "Batch 61/125 processed in 175.85 seconds\n"
     ]
    },
    {
     "name": "stderr",
     "output_type": "stream",
     "text": [
      "\r",
      " 46%|███████████████████████████████████                                         | 54/117 [2:50:57<3:01:43, 173.08s/it]"
     ]
    },
    {
     "name": "stdout",
     "output_type": "stream",
     "text": [
      "Batch 62/125 processed in 158.95 seconds\n"
     ]
    },
    {
     "name": "stderr",
     "output_type": "stream",
     "text": [
      "\r",
      " 47%|███████████████████████████████████▋                                        | 55/117 [2:54:38<3:13:42, 187.46s/it]"
     ]
    },
    {
     "name": "stdout",
     "output_type": "stream",
     "text": [
      "Batch 63/125 processed in 221.01 seconds\n"
     ]
    },
    {
     "name": "stderr",
     "output_type": "stream",
     "text": [
      "\r",
      " 48%|████████████████████████████████████▍                                       | 56/117 [2:57:17<3:01:56, 178.96s/it]"
     ]
    },
    {
     "name": "stdout",
     "output_type": "stream",
     "text": [
      "Batch 64/125 processed in 159.13 seconds\n"
     ]
    },
    {
     "name": "stderr",
     "output_type": "stream",
     "text": [
      "\r",
      " 49%|█████████████████████████████████████                                       | 57/117 [2:59:50<2:51:19, 171.33s/it]"
     ]
    },
    {
     "name": "stdout",
     "output_type": "stream",
     "text": [
      "Batch 65/125 processed in 153.51 seconds\n"
     ]
    },
    {
     "name": "stderr",
     "output_type": "stream",
     "text": [
      "\r",
      " 50%|█████████████████████████████████████▋                                      | 58/117 [3:02:33<2:45:57, 168.77s/it]"
     ]
    },
    {
     "name": "stdout",
     "output_type": "stream",
     "text": [
      "Batch 66/125 processed in 162.81 seconds\n"
     ]
    },
    {
     "name": "stderr",
     "output_type": "stream",
     "text": [
      "\r",
      " 50%|██████████████████████████████████████▎                                     | 59/117 [3:05:15<2:41:14, 166.81s/it]"
     ]
    },
    {
     "name": "stdout",
     "output_type": "stream",
     "text": [
      "Batch 67/125 processed in 162.23 seconds\n"
     ]
    },
    {
     "name": "stderr",
     "output_type": "stream",
     "text": [
      "\r",
      " 51%|██████████████████████████████████████▉                                     | 60/117 [3:08:42<2:49:45, 178.70s/it]"
     ]
    },
    {
     "name": "stdout",
     "output_type": "stream",
     "text": [
      "Batch 68/125 processed in 206.43 seconds\n"
     ]
    },
    {
     "name": "stderr",
     "output_type": "stream",
     "text": [
      "\r",
      " 52%|███████████████████████████████████████▌                                    | 61/117 [3:13:21<3:15:04, 209.01s/it]"
     ]
    },
    {
     "name": "stdout",
     "output_type": "stream",
     "text": [
      "Batch 69/125 processed in 279.73 seconds\n"
     ]
    },
    {
     "name": "stderr",
     "output_type": "stream",
     "text": [
      "\r",
      " 53%|████████████████████████████████████████▎                                   | 62/117 [3:16:01<2:58:00, 194.19s/it]"
     ]
    },
    {
     "name": "stdout",
     "output_type": "stream",
     "text": [
      "Batch 70/125 processed in 159.62 seconds\n"
     ]
    },
    {
     "name": "stderr",
     "output_type": "stream",
     "text": [
      "\r",
      " 54%|████████████████████████████████████████▉                                   | 63/117 [3:18:23<2:40:40, 178.53s/it]"
     ]
    },
    {
     "name": "stdout",
     "output_type": "stream",
     "text": [
      "Batch 71/125 processed in 141.99 seconds\n"
     ]
    },
    {
     "name": "stderr",
     "output_type": "stream",
     "text": [
      "\r",
      " 55%|█████████████████████████████████████████▌                                  | 64/117 [3:21:05<2:33:15, 173.51s/it]"
     ]
    },
    {
     "name": "stdout",
     "output_type": "stream",
     "text": [
      "Batch 72/125 processed in 161.78 seconds\n"
     ]
    },
    {
     "name": "stderr",
     "output_type": "stream",
     "text": [
      "\r",
      " 56%|██████████████████████████████████████████▏                                 | 65/117 [3:23:40<2:25:29, 167.87s/it]"
     ]
    },
    {
     "name": "stdout",
     "output_type": "stream",
     "text": [
      "Batch 73/125 processed in 154.71 seconds\n"
     ]
    },
    {
     "name": "stderr",
     "output_type": "stream",
     "text": [
      "\r",
      " 56%|██████████████████████████████████████████▊                                 | 66/117 [3:26:15<2:19:26, 164.04s/it]"
     ]
    },
    {
     "name": "stdout",
     "output_type": "stream",
     "text": [
      "Batch 74/125 processed in 155.12 seconds\n"
     ]
    },
    {
     "name": "stderr",
     "output_type": "stream",
     "text": [
      "\r",
      " 57%|███████████████████████████████████████████▌                                | 67/117 [3:28:49<2:14:20, 161.21s/it]"
     ]
    },
    {
     "name": "stdout",
     "output_type": "stream",
     "text": [
      "Batch 75/125 processed in 154.60 seconds\n"
     ]
    },
    {
     "name": "stderr",
     "output_type": "stream",
     "text": [
      "\r",
      " 58%|████████████████████████████████████████████▏                               | 68/117 [3:31:16<2:08:10, 156.94s/it]"
     ]
    },
    {
     "name": "stdout",
     "output_type": "stream",
     "text": [
      "Batch 76/125 processed in 146.99 seconds\n"
     ]
    },
    {
     "name": "stderr",
     "output_type": "stream",
     "text": [
      "\r",
      " 59%|████████████████████████████████████████████▊                               | 69/117 [3:33:36<2:01:22, 151.72s/it]"
     ]
    },
    {
     "name": "stdout",
     "output_type": "stream",
     "text": [
      "Batch 77/125 processed in 139.53 seconds\n"
     ]
    },
    {
     "name": "stderr",
     "output_type": "stream",
     "text": [
      "\r",
      " 60%|█████████████████████████████████████████████▍                              | 70/117 [3:36:27<2:03:30, 157.66s/it]"
     ]
    },
    {
     "name": "stdout",
     "output_type": "stream",
     "text": [
      "Batch 78/125 processed in 171.53 seconds\n"
     ]
    },
    {
     "name": "stderr",
     "output_type": "stream",
     "text": [
      "\r",
      " 61%|██████████████████████████████████████████████                              | 71/117 [3:38:56<1:58:44, 154.89s/it]"
     ]
    },
    {
     "name": "stdout",
     "output_type": "stream",
     "text": [
      "Batch 79/125 processed in 148.40 seconds\n"
     ]
    },
    {
     "name": "stderr",
     "output_type": "stream",
     "text": [
      "\r",
      " 62%|██████████████████████████████████████████████▊                             | 72/117 [3:41:26<1:55:10, 153.57s/it]"
     ]
    },
    {
     "name": "stdout",
     "output_type": "stream",
     "text": [
      "Batch 80/125 processed in 150.49 seconds\n"
     ]
    },
    {
     "name": "stderr",
     "output_type": "stream",
     "text": [
      "\r",
      " 62%|███████████████████████████████████████████████▍                            | 73/117 [3:43:49<1:50:11, 150.26s/it]"
     ]
    },
    {
     "name": "stdout",
     "output_type": "stream",
     "text": [
      "Batch 81/125 processed in 142.55 seconds\n"
     ]
    },
    {
     "name": "stderr",
     "output_type": "stream",
     "text": [
      "\r",
      " 63%|████████████████████████████████████████████████                            | 74/117 [3:46:29<1:49:46, 153.17s/it]"
     ]
    },
    {
     "name": "stdout",
     "output_type": "stream",
     "text": [
      "Batch 82/125 processed in 159.96 seconds\n"
     ]
    },
    {
     "name": "stderr",
     "output_type": "stream",
     "text": [
      "\r",
      " 64%|████████████████████████████████████████████████▋                           | 75/117 [3:49:11<1:49:01, 155.76s/it]"
     ]
    },
    {
     "name": "stdout",
     "output_type": "stream",
     "text": [
      "Batch 83/125 processed in 161.80 seconds\n"
     ]
    },
    {
     "name": "stderr",
     "output_type": "stream",
     "text": [
      "\r",
      " 65%|█████████████████████████████████████████████████▎                          | 76/117 [3:51:26<1:42:19, 149.74s/it]"
     ]
    },
    {
     "name": "stdout",
     "output_type": "stream",
     "text": [
      "Batch 84/125 processed in 135.70 seconds\n"
     ]
    },
    {
     "name": "stderr",
     "output_type": "stream",
     "text": [
      "\r",
      " 66%|██████████████████████████████████████████████████                          | 77/117 [3:53:54<1:39:23, 149.08s/it]"
     ]
    },
    {
     "name": "stdout",
     "output_type": "stream",
     "text": [
      "Batch 85/125 processed in 147.52 seconds\n"
     ]
    },
    {
     "name": "stderr",
     "output_type": "stream",
     "text": [
      "\r",
      " 67%|██████████████████████████████████████████████████▋                         | 78/117 [3:56:24<1:37:05, 149.38s/it]"
     ]
    },
    {
     "name": "stdout",
     "output_type": "stream",
     "text": [
      "Batch 86/125 processed in 150.08 seconds\n"
     ]
    },
    {
     "name": "stderr",
     "output_type": "stream",
     "text": [
      "\r",
      " 68%|███████████████████████████████████████████████████▎                        | 79/117 [3:58:48<1:33:35, 147.77s/it]"
     ]
    },
    {
     "name": "stdout",
     "output_type": "stream",
     "text": [
      "Batch 87/125 processed in 144.02 seconds\n"
     ]
    },
    {
     "name": "stderr",
     "output_type": "stream",
     "text": [
      "\r",
      " 68%|███████████████████████████████████████████████████▉                        | 80/117 [4:01:15<1:31:05, 147.70s/it]"
     ]
    },
    {
     "name": "stdout",
     "output_type": "stream",
     "text": [
      "Batch 88/125 processed in 147.55 seconds\n"
     ]
    },
    {
     "name": "stderr",
     "output_type": "stream",
     "text": [
      "\r",
      " 69%|████████████████████████████████████████████████████▌                       | 81/117 [4:03:47<1:29:19, 148.86s/it]"
     ]
    },
    {
     "name": "stdout",
     "output_type": "stream",
     "text": [
      "Batch 89/125 processed in 151.56 seconds\n"
     ]
    },
    {
     "name": "stderr",
     "output_type": "stream",
     "text": [
      "\r",
      " 70%|█████████████████████████████████████████████████████▎                      | 82/117 [4:06:50<1:32:49, 159.12s/it]"
     ]
    },
    {
     "name": "stdout",
     "output_type": "stream",
     "text": [
      "Batch 90/125 processed in 183.05 seconds\n"
     ]
    },
    {
     "name": "stderr",
     "output_type": "stream",
     "text": [
      "\r",
      " 71%|█████████████████████████████████████████████████████▉                      | 83/117 [4:09:17<1:28:06, 155.49s/it]"
     ]
    },
    {
     "name": "stdout",
     "output_type": "stream",
     "text": [
      "Batch 91/125 processed in 147.00 seconds\n"
     ]
    },
    {
     "name": "stderr",
     "output_type": "stream",
     "text": [
      "\r",
      " 72%|██████████████████████████████████████████████████████▌                     | 84/117 [4:11:50<1:25:05, 154.70s/it]"
     ]
    },
    {
     "name": "stdout",
     "output_type": "stream",
     "text": [
      "Batch 92/125 processed in 152.86 seconds\n"
     ]
    },
    {
     "name": "stderr",
     "output_type": "stream",
     "text": [
      "\r",
      " 73%|███████████████████████████████████████████████████████▏                    | 85/117 [4:14:15<1:20:56, 151.76s/it]"
     ]
    },
    {
     "name": "stdout",
     "output_type": "stream",
     "text": [
      "Batch 93/125 processed in 144.91 seconds\n"
     ]
    },
    {
     "name": "stderr",
     "output_type": "stream",
     "text": [
      "\r",
      " 74%|███████████████████████████████████████████████████████▊                    | 86/117 [4:16:33<1:16:22, 147.82s/it]"
     ]
    },
    {
     "name": "stdout",
     "output_type": "stream",
     "text": [
      "Batch 94/125 processed in 138.63 seconds\n"
     ]
    },
    {
     "name": "stderr",
     "output_type": "stream",
     "text": [
      "\r",
      " 74%|████████████████████████████████████████████████████████▌                   | 87/117 [4:19:24<1:17:20, 154.69s/it]"
     ]
    },
    {
     "name": "stdout",
     "output_type": "stream",
     "text": [
      "Batch 95/125 processed in 170.71 seconds\n"
     ]
    },
    {
     "name": "stderr",
     "output_type": "stream",
     "text": [
      "\r",
      " 75%|█████████████████████████████████████████████████████████▏                  | 88/117 [4:21:30<1:10:36, 146.07s/it]"
     ]
    },
    {
     "name": "stdout",
     "output_type": "stream",
     "text": [
      "Batch 96/125 processed in 125.96 seconds\n"
     ]
    },
    {
     "name": "stderr",
     "output_type": "stream",
     "text": [
      "\r",
      " 76%|█████████████████████████████████████████████████████████▊                  | 89/117 [4:23:53<1:07:39, 145.00s/it]"
     ]
    },
    {
     "name": "stdout",
     "output_type": "stream",
     "text": [
      "Batch 97/125 processed in 142.49 seconds\n"
     ]
    },
    {
     "name": "stderr",
     "output_type": "stream",
     "text": [
      "\r",
      " 77%|██████████████████████████████████████████████████████████▍                 | 90/117 [4:26:20<1:05:37, 145.82s/it]"
     ]
    },
    {
     "name": "stdout",
     "output_type": "stream",
     "text": [
      "Batch 98/125 processed in 147.74 seconds\n"
     ]
    },
    {
     "name": "stderr",
     "output_type": "stream",
     "text": [
      "\r",
      " 78%|███████████████████████████████████████████████████████████                 | 91/117 [4:28:33<1:01:30, 141.93s/it]"
     ]
    },
    {
     "name": "stdout",
     "output_type": "stream",
     "text": [
      "Batch 99/125 processed in 132.84 seconds\n"
     ]
    },
    {
     "name": "stderr",
     "output_type": "stream",
     "text": [
      "\r",
      " 79%|███████████████████████████████████████████████████████████▊                | 92/117 [4:31:13<1:01:22, 147.30s/it]"
     ]
    },
    {
     "name": "stdout",
     "output_type": "stream",
     "text": [
      "Batch 100/125 processed in 159.82 seconds\n"
     ]
    },
    {
     "name": "stderr",
     "output_type": "stream",
     "text": [
      "\r",
      " 79%|█████████████████████████████████████████████████████████████▉                | 93/117 [4:33:30<57:39, 144.15s/it]"
     ]
    },
    {
     "name": "stdout",
     "output_type": "stream",
     "text": [
      "Batch 101/125 processed in 136.80 seconds\n"
     ]
    },
    {
     "name": "stderr",
     "output_type": "stream",
     "text": [
      "\r",
      " 80%|██████████████████████████████████████████████████████████████▋               | 94/117 [4:35:58<55:40, 145.23s/it]"
     ]
    },
    {
     "name": "stdout",
     "output_type": "stream",
     "text": [
      "Batch 102/125 processed in 147.74 seconds\n"
     ]
    },
    {
     "name": "stderr",
     "output_type": "stream",
     "text": [
      "\r",
      " 81%|███████████████████████████████████████████████████████████████▎              | 95/117 [4:38:13<52:08, 142.21s/it]"
     ]
    },
    {
     "name": "stdout",
     "output_type": "stream",
     "text": [
      "Batch 103/125 processed in 135.17 seconds\n"
     ]
    },
    {
     "name": "stderr",
     "output_type": "stream",
     "text": [
      "\r",
      " 82%|████████████████████████████████████████████████████████████████              | 96/117 [4:41:26<55:07, 157.52s/it]"
     ]
    },
    {
     "name": "stdout",
     "output_type": "stream",
     "text": [
      "Batch 104/125 processed in 193.24 seconds\n"
     ]
    },
    {
     "name": "stderr",
     "output_type": "stream",
     "text": [
      "\r",
      " 83%|████████████████████████████████████████████████████████████████▋             | 97/117 [4:43:44<50:32, 151.61s/it]"
     ]
    },
    {
     "name": "stdout",
     "output_type": "stream",
     "text": [
      "Batch 105/125 processed in 137.82 seconds\n"
     ]
    },
    {
     "name": "stderr",
     "output_type": "stream",
     "text": [
      "\r",
      " 84%|█████████████████████████████████████████████████████████████████▎            | 98/117 [4:46:21<48:34, 153.40s/it]"
     ]
    },
    {
     "name": "stdout",
     "output_type": "stream",
     "text": [
      "Batch 106/125 processed in 157.59 seconds\n"
     ]
    },
    {
     "name": "stderr",
     "output_type": "stream",
     "text": [
      "\r",
      " 85%|██████████████████████████████████████████████████████████████████            | 99/117 [4:48:56<46:08, 153.80s/it]"
     ]
    },
    {
     "name": "stdout",
     "output_type": "stream",
     "text": [
      "Batch 107/125 processed in 154.70 seconds\n"
     ]
    },
    {
     "name": "stderr",
     "output_type": "stream",
     "text": [
      "\r",
      " 85%|█████████████████████████████████████████████████████████████████▊           | 100/117 [4:53:54<55:48, 196.96s/it]"
     ]
    },
    {
     "name": "stdout",
     "output_type": "stream",
     "text": [
      "Batch 108/125 processed in 297.67 seconds\n"
     ]
    },
    {
     "name": "stderr",
     "output_type": "stream",
     "text": [
      "\r",
      " 86%|██████████████████████████████████████████████████████████████████▍          | 101/117 [4:56:42<50:14, 188.42s/it]"
     ]
    },
    {
     "name": "stdout",
     "output_type": "stream",
     "text": [
      "Batch 109/125 processed in 168.48 seconds\n"
     ]
    },
    {
     "name": "stderr",
     "output_type": "stream",
     "text": [
      "\r",
      " 87%|███████████████████████████████████████████████████████████████████▏         | 102/117 [5:00:33<50:15, 201.02s/it]"
     ]
    },
    {
     "name": "stdout",
     "output_type": "stream",
     "text": [
      "Batch 110/125 processed in 230.41 seconds\n"
     ]
    },
    {
     "name": "stderr",
     "output_type": "stream",
     "text": [
      "\r",
      " 88%|███████████████████████████████████████████████████████████████████▊         | 103/117 [5:04:14<48:17, 206.97s/it]"
     ]
    },
    {
     "name": "stdout",
     "output_type": "stream",
     "text": [
      "Batch 111/125 processed in 220.87 seconds\n"
     ]
    },
    {
     "name": "stderr",
     "output_type": "stream",
     "text": [
      "\r",
      " 89%|████████████████████████████████████████████████████████████████████▍        | 104/117 [5:09:43<52:48, 243.71s/it]"
     ]
    },
    {
     "name": "stdout",
     "output_type": "stream",
     "text": [
      "Batch 112/125 processed in 329.43 seconds\n"
     ]
    },
    {
     "name": "stderr",
     "output_type": "stream",
     "text": [
      "\r",
      " 90%|█████████████████████████████████████████████████████████████████████        | 105/117 [5:14:29<51:15, 256.29s/it]"
     ]
    },
    {
     "name": "stdout",
     "output_type": "stream",
     "text": [
      "Batch 113/125 processed in 285.63 seconds\n"
     ]
    },
    {
     "name": "stderr",
     "output_type": "stream",
     "text": [
      "\r",
      " 91%|█████████████████████████████████████████████████████████████████████▊       | 106/117 [5:17:36<43:11, 235.59s/it]"
     ]
    },
    {
     "name": "stdout",
     "output_type": "stream",
     "text": [
      "Batch 114/125 processed in 187.30 seconds\n"
     ]
    },
    {
     "name": "stderr",
     "output_type": "stream",
     "text": [
      "\r",
      " 91%|██████████████████████████████████████████████████████████████████████▍      | 107/117 [5:20:42<36:47, 220.72s/it]"
     ]
    },
    {
     "name": "stdout",
     "output_type": "stream",
     "text": [
      "Batch 115/125 processed in 186.01 seconds\n"
     ]
    },
    {
     "name": "stderr",
     "output_type": "stream",
     "text": [
      "\r",
      " 92%|███████████████████████████████████████████████████████████████████████      | 108/117 [5:23:33<30:53, 205.93s/it]"
     ]
    },
    {
     "name": "stdout",
     "output_type": "stream",
     "text": [
      "Batch 116/125 processed in 171.43 seconds\n"
     ]
    },
    {
     "name": "stderr",
     "output_type": "stream",
     "text": [
      "\r",
      " 93%|███████████████████████████████████████████████████████████████████████▋     | 109/117 [5:27:59<29:51, 223.95s/it]"
     ]
    },
    {
     "name": "stdout",
     "output_type": "stream",
     "text": [
      "Batch 117/125 processed in 266.00 seconds\n"
     ]
    },
    {
     "name": "stderr",
     "output_type": "stream",
     "text": [
      "\r",
      " 94%|████████████████████████████████████████████████████████████████████████▍    | 110/117 [5:30:53<24:21, 208.74s/it]"
     ]
    },
    {
     "name": "stdout",
     "output_type": "stream",
     "text": [
      "Batch 118/125 processed in 173.26 seconds\n"
     ]
    },
    {
     "name": "stderr",
     "output_type": "stream",
     "text": [
      "\r",
      " 95%|█████████████████████████████████████████████████████████████████████████    | 111/117 [5:34:38<21:22, 213.72s/it]"
     ]
    },
    {
     "name": "stdout",
     "output_type": "stream",
     "text": [
      "Batch 119/125 processed in 225.33 seconds\n"
     ]
    },
    {
     "name": "stderr",
     "output_type": "stream",
     "text": [
      "\r",
      " 96%|█████████████████████████████████████████████████████████████████████████▋   | 112/117 [5:37:42<17:03, 204.76s/it]"
     ]
    },
    {
     "name": "stdout",
     "output_type": "stream",
     "text": [
      "Batch 120/125 processed in 183.84 seconds\n"
     ]
    },
    {
     "name": "stderr",
     "output_type": "stream",
     "text": [
      "\r",
      " 97%|██████████████████████████████████████████████████████████████████████████▎  | 113/117 [5:40:28<12:52, 193.18s/it]"
     ]
    },
    {
     "name": "stdout",
     "output_type": "stream",
     "text": [
      "Batch 121/125 processed in 166.18 seconds\n"
     ]
    },
    {
     "name": "stderr",
     "output_type": "stream",
     "text": [
      "\r",
      " 97%|███████████████████████████████████████████████████████████████████████████  | 114/117 [5:43:19<09:19, 186.40s/it]"
     ]
    },
    {
     "name": "stdout",
     "output_type": "stream",
     "text": [
      "Batch 122/125 processed in 170.55 seconds\n"
     ]
    },
    {
     "name": "stderr",
     "output_type": "stream",
     "text": [
      "\r",
      " 98%|███████████████████████████████████████████████████████████████████████████▋ | 115/117 [5:48:00<07:10, 215.01s/it]"
     ]
    },
    {
     "name": "stdout",
     "output_type": "stream",
     "text": [
      "Batch 123/125 processed in 281.78 seconds\n"
     ]
    },
    {
     "name": "stderr",
     "output_type": "stream",
     "text": [
      "\r",
      " 99%|████████████████████████████████████████████████████████████████████████████▎| 116/117 [5:52:42<03:55, 235.12s/it]"
     ]
    },
    {
     "name": "stdout",
     "output_type": "stream",
     "text": [
      "Batch 124/125 processed in 282.03 seconds\n"
     ]
    },
    {
     "name": "stderr",
     "output_type": "stream",
     "text": [
      "100%|█████████████████████████████████████████████████████████████████████████████| 117/117 [5:53:37<00:00, 181.35s/it]"
     ]
    },
    {
     "name": "stdout",
     "output_type": "stream",
     "text": [
      "Batch 125/125 processed in 54.86 seconds\n"
     ]
    },
    {
     "name": "stderr",
     "output_type": "stream",
     "text": [
      "\n"
     ]
    },
    {
     "name": "stdout",
     "output_type": "stream",
     "text": [
      "Time taken: 21221.47048664093\n"
     ]
    }
   ],
   "source": [
    "import os\n",
    "import glob\n",
    "\n",
    "# Load the tokenizer and pre-trained RoBERTa model \n",
    "tokenizer = RobertaTokenizer.from_pretrained('roberta-base')\n",
    "model = RobertaModel.from_pretrained('roberta-base')\n",
    "\n",
    "# Start the timer\n",
    "start = time.time()\n",
    "\n",
    "# Tokenize the reviews and obtain the embeddings in batches\n",
    "batch_size = 1000\n",
    "n_batches = int(np.ceil(len(processed_reviews) / batch_size))\n",
    "\n",
    "# Check for existing embeddings files\n",
    "existing_files = glob.glob(\"batch_*_embeddings.npy\")\n",
    "start_batch = len(existing_files)\n",
    "\n",
    "# List to hold all embeddings\n",
    "embeddings = []\n",
    "\n",
    "if start_batch >= n_batches:\n",
    "    print(\"All batches processed\")\n",
    "else:\n",
    "    for i in tqdm(range(start_batch, n_batches)):\n",
    "        start_time = time.time()\n",
    "\n",
    "        # Select the reviews in the current batch\n",
    "        batch_reviews = processed_reviews[i*batch_size:(i+1)*batch_size]\n",
    "\n",
    "        # Check and truncate the reviews in the batch to ensure that they do not exceed the maximum length\n",
    "        batch_reviews = [review[:512] for review in batch_reviews]\n",
    "\n",
    "        # Tokenize the reviews in the batch\n",
    "        input_ids = tokenizer(batch_reviews, padding='longest', truncation=True, max_length=512, return_tensors='pt').input_ids\n",
    "\n",
    "        # Get the embeddings\n",
    "        with torch.no_grad():\n",
    "            last_hidden_states = model(input_ids)[0]  # Models outputs are now tuples\n",
    "\n",
    "        # Take the embedding of the [CLS] token which can be used as the embedding for the entire text\n",
    "        batch_embeddings = last_hidden_states[:, 0, :].numpy()\n",
    "        \n",
    "        # Save the embeddings after each batch\n",
    "        np.save(f'batch_{i+1}_embeddings.npy', batch_embeddings)\n",
    "\n",
    "        # Load saved embeddings and append to the list\n",
    "        loaded_embeddings = np.load(f'batch_{i+1}_embeddings.npy')\n",
    "        embeddings.extend(loaded_embeddings)\n",
    "\n",
    "        elapsed_time = time.time() - start_time\n",
    "        print(f\"Batch {i+1}/{n_batches} processed in {elapsed_time:.2f} seconds\")\n",
    "\n",
    "embeddings = np.array(embeddings)\n",
    "\n",
    "# Stop the timer and print the time taken\n",
    "end = time.time()\n",
    "print(f\"Time taken: {end - start}\")"
   ]
  },
  {
   "cell_type": "markdown",
   "id": "082821f5",
   "metadata": {},
   "source": [
    "Now we have total 125 .npy files. We can load each of these files and concatenate them into one large numpy array. Then, we can convert this array to a list and assign it to a new column in our dataframe."
   ]
  },
  {
   "cell_type": "code",
   "execution_count": 10,
   "id": "a14820bf",
   "metadata": {},
   "outputs": [],
   "source": [
    "# Initialize an empty list to hold the embeddings\n",
    "all_embeddings = []\n",
    "\n",
    "# Iterate over the .npy files in correct order\n",
    "for i in range(1, 126):  # range starts from 1 and goes till 126 to include 125\n",
    "    # Load the current .npy file\n",
    "    embeddings = np.load(f'batch_{i}_embeddings.npy')\n",
    "\n",
    "    # Append the embeddings from this file to the list\n",
    "    all_embeddings.extend(embeddings)\n",
    "\n",
    "# Convert the list of embeddings to a list and assign it to the 'embeddings' column\n",
    "pr_reviews_df['embeddings'] = all_embeddings"
   ]
  },
  {
   "cell_type": "code",
   "execution_count": 11,
   "id": "ebe187cc",
   "metadata": {},
   "outputs": [
    {
     "data": {
      "text/plain": [
       "Index(['Unnamed: 0', 'AirlineName', 'CabinType', 'EntertainmentRating',\n",
       "       'FoodRating', 'GroundServiceRating', 'OverallScore', 'Recommended',\n",
       "       'Review', 'SeatComfortRating', 'ServiceRating', 'TripVerified',\n",
       "       'ValueRating', 'WifiRating', 'MonthYearPublished', 'processed_review',\n",
       "       'vader_score', 'embeddings'],\n",
       "      dtype='object')"
      ]
     },
     "execution_count": 11,
     "metadata": {},
     "output_type": "execute_result"
    }
   ],
   "source": [
    "# Check the column names\n",
    "pr_reviews_df.columns"
   ]
  },
  {
   "cell_type": "code",
   "execution_count": 12,
   "id": "7a49bf9a",
   "metadata": {},
   "outputs": [
    {
     "data": {
      "text/plain": [
       "array([-7.48624206e-02,  5.02544716e-02,  8.25254992e-03, -1.20547526e-01,\n",
       "        1.74866840e-02, -9.83910039e-02, -2.77097598e-02, -1.44805908e-02,\n",
       "        4.83096428e-02, -9.71693546e-02, -4.96119708e-02,  5.78532666e-02,\n",
       "        3.94801795e-02, -5.33470064e-02,  2.92145312e-02,  8.95161778e-02,\n",
       "       -4.43303026e-02,  8.14051926e-03, -1.31008476e-02, -5.15589565e-02,\n",
       "       -1.03515960e-01,  3.27807516e-02, -1.22292824e-02,  9.22952667e-02,\n",
       "        3.02981474e-02,  2.06837617e-02,  2.46956609e-02,  7.61287287e-02,\n",
       "       -3.02780718e-02, -2.44298726e-02, -5.66499308e-03, -4.40743640e-02,\n",
       "        3.88826318e-02, -5.23654073e-02,  4.79372963e-02,  8.78783464e-02,\n",
       "        6.56798482e-02, -3.12950015e-02, -1.19756110e-01,  2.13187933e-02,\n",
       "        5.17353415e-03, -4.64061927e-03,  6.67520389e-02,  2.76344027e-02,\n",
       "        8.36805105e-02,  2.85120830e-02,  3.10591292e-02,  4.90015075e-02,\n",
       "       -6.41898885e-02, -8.87254253e-03,  1.65220499e-02,  5.33510298e-02,\n",
       "       -1.16161220e-02,  6.49760664e-03, -8.60425457e-02, -1.82270631e-02,\n",
       "        1.36230923e-02,  1.14028744e-01,  1.68807805e-04, -4.91012037e-02,\n",
       "        5.20327576e-02, -6.80925697e-02, -9.59619656e-02,  1.60780102e-02,\n",
       "        4.56147119e-02,  4.08001803e-03, -3.19421664e-02, -1.20334681e-02,\n",
       "        2.12208573e-02,  5.60327619e-02,  7.99406618e-02, -2.80027390e-02,\n",
       "        4.86240946e-02, -4.17739004e-02, -5.74199930e-02,  1.14580579e-02,\n",
       "        4.82707843e-02,  3.73010486e-01, -1.27032660e-02, -4.29800153e-03,\n",
       "        5.79697639e-02, -1.87822543e-02,  2.67959476e-01,  4.82019074e-02,\n",
       "        5.89518771e-02, -1.45514607e-02,  4.06928882e-02,  1.04784153e-01,\n",
       "        3.04382164e-02,  1.80489589e-02,  1.94167532e-02,  5.18228859e-02,\n",
       "       -7.50584304e-02,  1.08568156e-02,  3.45844626e-02,  3.27367820e-02,\n",
       "        2.10169088e-02, -1.06000870e-01, -3.07439938e-02, -3.76613438e-02,\n",
       "       -9.78458673e-04, -6.82100728e-02,  8.00735801e-02,  5.14924042e-02,\n",
       "        1.48261003e-02,  3.21893021e-03,  3.09296288e-02, -4.10921872e-04,\n",
       "        3.98943797e-02, -5.09945005e-02, -7.59311207e-03,  5.72039820e-02,\n",
       "        5.77755459e-03,  5.22036627e-02,  1.38518289e-02, -4.99533191e-02,\n",
       "       -1.19520351e-02,  4.43219021e-03, -4.25853580e-03,  1.29587576e-02,\n",
       "        5.62680662e-02,  8.83204862e-02,  8.13009292e-02, -3.05398256e-02,\n",
       "       -5.35497814e-03,  6.38188422e-03,  6.68897852e-03, -2.81777158e-02,\n",
       "       -5.76933250e-02,  5.65141551e-02,  2.99634282e-02, -9.66811478e-02,\n",
       "        3.76679003e-04,  6.80523962e-02,  3.31938118e-02,  1.39508341e-02,\n",
       "        8.55094790e-02, -3.14928442e-02,  4.19833437e-02,  9.36069340e-03,\n",
       "       -5.20049781e-03,  4.82208133e-02,  4.47785333e-02,  4.54491377e-02,\n",
       "        1.33411497e-01, -3.22624668e-03,  3.92195843e-02, -2.53700279e-02,\n",
       "        4.67374995e-02, -1.04960417e-02,  6.83476552e-02, -4.01863158e-02,\n",
       "       -5.98446280e-02,  6.21428527e-02, -5.35253882e-02,  3.71444136e-01,\n",
       "        9.73694474e-02,  1.46783423e-02, -2.49335766e-02,  3.99743840e-02,\n",
       "        1.14072055e-01, -2.35095993e-02,  1.89650767e-02,  7.29960948e-03,\n",
       "       -3.38657424e-02,  3.25980107e-03,  2.36835405e-02,  1.32821500e-03,\n",
       "        5.47420681e-02, -2.81493366e-03,  2.67734490e-02,  1.41780712e-02,\n",
       "       -1.52795669e-03, -4.11117673e-02, -9.68909636e-03, -1.62372813e-02,\n",
       "       -2.95778885e-02,  1.50977187e-02, -1.19607501e-01,  4.63884659e-02,\n",
       "        5.56153879e-02,  6.01950884e-02, -4.53311764e-02,  3.17586437e-02,\n",
       "       -5.68042919e-02,  1.33132804e-02,  1.98555626e-02,  5.44340611e-02,\n",
       "       -3.51930037e-03, -4.27601114e-02,  2.96735764e-02, -2.08225958e-02,\n",
       "       -1.26930922e-02,  1.68102086e-02,  1.27699487e-02,  1.38572678e-01,\n",
       "       -3.28884535e-02, -1.98222063e-02,  9.05364752e-04, -4.56835851e-02,\n",
       "        6.28726184e-03, -1.28451303e-01,  5.80473058e-02, -1.12151518e-01,\n",
       "        7.10292310e-02,  8.82273912e-03, -1.76907331e-03,  5.21185696e-02,\n",
       "        2.90319566e-02, -4.97723706e-02, -6.66102171e-02,  6.69629127e-02,\n",
       "        3.32665741e-02,  1.04056723e-01,  3.10800821e-02, -3.66483293e-02,\n",
       "        3.05884536e-02,  2.03617483e-01, -1.84773207e-02,  2.28718612e-02,\n",
       "        3.57943401e-02,  6.37658462e-02, -2.52226368e-03,  7.10310712e-02,\n",
       "        2.32751817e-02,  1.85492113e-02,  2.65993364e-02, -2.95182988e-02,\n",
       "        5.28960228e-02, -2.77499259e-02, -1.19498409e-02,  3.93593870e-02,\n",
       "        2.94386894e-02,  3.02997623e-02,  4.27444577e-02, -1.45127639e-01,\n",
       "        7.40389526e-03, -4.92683202e-02,  1.77929550e-02,  4.76519763e-03,\n",
       "       -1.56281292e-01,  7.54731894e-03,  1.94600075e-02,  2.53412612e-02,\n",
       "        1.19956098e-02,  9.42741781e-02, -1.75082833e-02,  5.02923541e-02,\n",
       "       -6.62518293e-02,  6.70636073e-02, -5.26843667e-02,  7.98765477e-03,\n",
       "        7.76429661e-03, -1.18264072e-02,  4.20895219e-02, -1.60313770e-02,\n",
       "       -8.01222175e-02, -2.34488174e-02,  4.54183593e-02, -7.11254030e-03,\n",
       "       -2.47390643e-02, -5.42088225e-02,  2.35129017e-02, -4.43395302e-02,\n",
       "       -9.87353995e-02, -1.02071464e-01, -3.86348963e-02,  7.68841431e-03,\n",
       "       -6.21633232e-03, -3.65221500e-02,  1.93358604e-02, -3.88285741e-02,\n",
       "       -5.58664203e-02, -1.48403645e-02, -2.92548388e-02,  2.20216066e-03,\n",
       "       -3.96659262e-02, -6.49330094e-02, -6.71627298e-02, -1.31292231e-02,\n",
       "        5.59488013e-02,  2.37565879e-02, -7.34964311e-02,  5.80469221e-02,\n",
       "       -2.58214884e-02,  3.19125876e-02, -3.33606005e-02, -3.20771746e-02,\n",
       "        3.30694914e-02,  5.17321825e-02,  3.62112187e-02,  4.26422805e-02,\n",
       "        6.50775246e-03,  5.28565608e-02, -2.22214386e-02,  4.22900394e-02,\n",
       "        5.82010783e-02,  6.75096288e-02,  5.43418229e-02,  1.60437971e-02,\n",
       "       -6.32195547e-02, -1.03014074e-01, -8.77321213e-02, -7.42716901e-03,\n",
       "        4.32238542e-02, -5.46803325e-02, -3.57339792e-02, -4.62530926e-03,\n",
       "        4.77519520e-02,  5.30252978e-03, -4.99521270e-02,  7.81843811e-03,\n",
       "       -1.20131776e-01,  1.46771520e-01,  2.89569777e-02,  1.07173324e-02,\n",
       "        3.79561931e-02, -4.84545976e-02,  4.77755517e-02,  3.63747515e-02,\n",
       "        2.60074399e-02,  4.83368784e-02,  4.27363999e-02, -7.42574036e-03,\n",
       "        7.24510290e-03,  2.43828222e-02,  5.12664467e-02, -3.95415425e-02,\n",
       "        4.43063341e-02,  3.54709029e-01, -3.16268504e-01,  7.49003328e-03,\n",
       "        7.15445429e-02, -1.64192542e-03,  8.48338008e-02, -3.19650918e-02,\n",
       "        2.91029699e-02,  4.31362540e-02,  9.11426321e-02,  4.81734984e-02,\n",
       "        1.02078095e-02,  4.23086770e-02,  2.02853978e-03,  6.79956973e-02,\n",
       "        5.88028468e-02,  3.64056602e-03, -5.03714383e-02, -1.63791887e-02,\n",
       "        1.03015881e-02,  4.68647256e-02,  4.99740243e-04, -2.14720815e-02,\n",
       "        5.08981645e-02, -6.59644902e-02, -1.19082257e-02,  1.68093964e-02,\n",
       "       -1.43793523e-02, -2.37383842e-02, -5.50791062e-03, -2.58689970e-02,\n",
       "        1.22729577e-02,  3.99548151e-02,  2.40872391e-02,  1.32733211e-03,\n",
       "        7.26319999e-02, -1.28968477e-01, -1.56471282e-02,  7.34727681e-02,\n",
       "        8.55867937e-03,  3.38734686e-03,  5.43299206e-02,  3.63903046e-02,\n",
       "        2.99038813e-02,  2.18509920e-02,  2.34853216e-02, -2.30465084e-02,\n",
       "        1.39500890e-02, -1.54948756e-02, -2.82658637e-03,  1.28985509e-01,\n",
       "        7.48276412e-02,  2.26568580e-02, -4.00335677e-02,  1.90066751e-02,\n",
       "        4.68482487e-02, -2.97586992e-02,  1.82880722e-02,  4.68852371e-03,\n",
       "        9.83579382e-02,  1.70987491e-02,  7.07430765e-03, -1.09742820e-01,\n",
       "       -2.36621052e-02, -8.19988698e-02,  1.18467227e-01,  4.31683920e-02,\n",
       "       -4.97204885e-02, -1.58036649e-01, -6.15804493e-02, -3.89420837e-02,\n",
       "        2.06440240e-02,  5.46395555e-02, -5.29579297e-02,  3.05184815e-02,\n",
       "        2.14220099e-02,  5.38900495e-05, -2.84900852e-02, -3.43836732e-02,\n",
       "       -2.04066560e-03, -3.89497988e-02, -2.15889588e-02,  5.39423823e-02,\n",
       "        2.03515291e-02, -1.94526576e-02,  1.74038187e-02,  1.15142725e-02,\n",
       "       -1.63953230e-02, -1.24828070e-02, -2.83998027e-02,  7.11388141e-03,\n",
       "       -3.33972648e-02,  5.94669282e-02, -9.56207141e-03,  2.35941801e-02,\n",
       "       -7.75393248e-02, -6.83245659e-02,  6.46992773e-03, -7.46229365e-02,\n",
       "       -7.54568279e-02, -1.27291270e-02, -1.27049536e-03,  6.44085929e-02,\n",
       "       -4.24701795e-02, -4.67458740e-02, -3.69803235e-02,  1.65237542e-02,\n",
       "        2.04694569e-02, -1.39520504e-02, -6.08990118e-02,  6.46047201e-03,\n",
       "       -6.71809539e-02,  7.91937113e-03,  6.12678193e-02,  2.01237202e-03,\n",
       "       -6.54404312e-02,  1.41735002e-03,  7.37660676e-02, -1.62331127e-02,\n",
       "       -7.36461729e-02,  3.58248651e-02,  1.57788023e-03,  1.27775967e-03,\n",
       "       -3.84378657e-02, -6.79193735e-01,  7.33788759e-02,  3.34945768e-02,\n",
       "       -6.68121129e-03,  6.54258952e-02, -2.99860686e-02, -3.21861729e-02,\n",
       "        3.74610648e-02,  7.12453797e-02,  3.80221941e-02, -4.19929251e-02,\n",
       "        1.27655976e-02, -6.43491745e-03, -4.48473468e-02,  5.20932674e-02,\n",
       "        5.93088567e-03, -1.90171339e-02,  2.41869055e-02,  2.86740772e-02,\n",
       "       -1.60744600e-03,  1.42098339e-02,  2.84457989e-02, -3.26121598e-03,\n",
       "       -1.76698193e-02,  8.69644061e-03, -5.29548004e-02, -3.85074429e-02,\n",
       "       -3.54483463e-02,  7.04981834e-02,  2.73826383e-02, -1.32286064e-02,\n",
       "       -5.12380227e-02,  1.79878958e-02, -5.43290004e-03,  1.74329244e-02,\n",
       "        6.82664961e-02,  1.15147326e-02, -1.29508413e-02,  2.27411278e-02,\n",
       "       -1.38897412e-02, -2.96090543e-03,  2.25237668e-01,  3.72827724e-02,\n",
       "        9.62697119e-02,  3.50698605e-02,  1.17744878e-03, -4.69753705e-02,\n",
       "        1.39441267e-02, -6.79275393e-02,  2.06501167e-02,  2.26363912e-03,\n",
       "       -1.16599165e-02, -2.35561654e-02, -6.38861656e-02, -3.43343802e-02,\n",
       "       -9.54411924e-03,  2.63221785e-02, -4.89982218e-02,  2.64819115e-02,\n",
       "        1.51049539e-01, -1.93766952e-02,  2.74449419e-02,  2.39600912e-02,\n",
       "        5.34726270e-02,  8.15004110e-03, -2.20584869e-03,  2.93157957e-02,\n",
       "       -7.77743906e-02,  1.66411139e-02, -8.74281675e-03, -2.77379453e-02,\n",
       "       -6.41434193e-02, -4.56134714e-02,  1.18827038e-02,  1.03797391e-02,\n",
       "        2.93934774e-02,  3.42458636e-02, -2.98187137e-04, -6.07376397e-02,\n",
       "        3.44413891e-02, -1.20448656e-02,  3.03220525e-02,  3.05440053e-02,\n",
       "        7.68168718e-02,  3.19702625e-02, -5.76905012e-02, -9.21458378e-02,\n",
       "        2.20865719e-02,  6.18399531e-02,  9.03109610e-02, -2.01984346e-02,\n",
       "        7.28479847e-02,  2.79037654e-02,  1.51817650e-02, -2.86081135e-02,\n",
       "        4.90592346e-02,  5.00830635e-02,  1.77643392e-02, -5.74158788e-01,\n",
       "       -6.90788105e-02,  8.50640163e-02, -1.49399824e-02,  3.18357348e-02,\n",
       "        4.72685024e-02, -2.23518200e-02, -1.66486688e-02,  9.90233347e-02,\n",
       "       -9.95008275e-03, -2.64629722e-04, -2.41554081e-02,  9.46213454e-02,\n",
       "       -8.52868631e-02, -4.02828678e-02,  3.18064131e-02, -1.47818029e-02,\n",
       "       -5.12526780e-02, -1.25604682e-02, -2.56921411e-01, -1.13204494e-03,\n",
       "       -2.27050185e-02,  8.24781954e-02,  5.99808395e-02,  3.57207544e-02,\n",
       "        6.45398572e-02, -2.30427347e-02,  5.95997795e-02,  3.84474024e-02,\n",
       "        5.60313240e-02,  1.01619139e-01,  3.03813703e-02, -2.20595412e-02,\n",
       "       -4.33886424e-03, -1.44761205e-02,  1.42164931e-01,  7.64244944e-02,\n",
       "        1.06449919e+01, -4.87168022e-02,  7.54783861e-03,  2.44303420e-02,\n",
       "       -3.26319188e-02, -8.26363042e-02,  5.28551787e-02, -8.63558799e-02,\n",
       "       -4.49768454e-03,  1.07696593e-01,  9.11842659e-03,  1.85006224e-02,\n",
       "       -6.37955964e-02, -6.40072301e-02,  6.60819709e-02,  1.98141225e-02,\n",
       "       -4.64607477e-02, -3.87402065e-02,  5.81868328e-02, -2.06496343e-02,\n",
       "        1.99093968e-02,  5.31892665e-02,  2.08529718e-02,  2.16549896e-02,\n",
       "       -4.85501401e-02,  3.53866443e-02,  1.54260825e-02, -1.11831054e-02,\n",
       "       -1.80938151e-02,  2.12122127e-02,  2.36210413e-02, -2.09366530e-03,\n",
       "        4.67666388e-02,  2.88248137e-02,  5.31192496e-02,  2.18745470e-02,\n",
       "       -6.61592036e-02,  9.60744098e-02,  4.38588783e-02,  2.88064387e-02,\n",
       "        8.17754269e-02,  4.31156531e-03,  1.79648586e-02,  9.89488140e-03,\n",
       "        3.23899239e-02,  6.21896908e-02, -6.01207539e-02,  1.21982247e-01,\n",
       "       -4.32500988e-03,  5.12343310e-02,  4.52279896e-02, -6.34681061e-02,\n",
       "        4.20457721e-02, -4.42621484e-03, -1.54124498e-02, -6.42011315e-02,\n",
       "        4.97791208e-02, -1.63546763e-02,  4.25536111e-02,  6.13968335e-02,\n",
       "       -2.69797072e-02,  1.11184210e-01,  8.27845931e-03,  1.98475961e-02,\n",
       "       -3.45081910e-02,  1.02877498e-01,  7.08573535e-02,  7.65888393e-02,\n",
       "       -1.04511380e-02,  7.06687123e-02,  2.87589096e-02, -6.53196722e-02,\n",
       "       -1.31115057e-02, -5.27780280e-02,  1.25360377e-02, -7.41679072e-02,\n",
       "       -5.25014848e-02, -3.61183882e-02,  2.24577915e-02,  1.89322978e-02,\n",
       "        4.94119488e-02,  3.22345719e-02, -1.51921920e-02, -1.62114277e-02,\n",
       "        6.69592321e-02,  1.83560736e-02,  5.88731393e-02,  4.30253297e-02,\n",
       "        1.98576935e-02, -5.55864722e-02, -2.13018432e-02,  8.48246738e-03,\n",
       "       -1.09869614e-02, -7.19732195e-02, -3.57592106e-03, -1.03984624e-02,\n",
       "        1.05290469e-02, -6.16327748e-02,  7.37065226e-02,  4.12659608e-02,\n",
       "       -6.21160716e-02,  1.44919865e-02,  1.59887131e-02,  6.21693879e-02,\n",
       "        4.21146676e-02,  5.87458536e-03, -3.02472115e-02, -2.34316811e-02,\n",
       "        2.80416384e-03, -2.70226598e-03, -3.36447731e-04,  1.03408024e-02,\n",
       "       -3.52899656e-02, -1.80914998e-02,  5.56753501e-02,  2.72024721e-02,\n",
       "       -2.31559947e-03,  1.34349680e-02,  2.53170729e-04,  5.68089187e-02,\n",
       "       -7.79509023e-02,  4.02136371e-02,  7.97979813e-03,  2.16497164e-02,\n",
       "       -3.90952379e-02, -3.68193127e-02, -2.70057693e-02, -1.77874416e-03,\n",
       "       -8.51152278e-03, -2.17838474e-02, -8.35056975e-03,  4.01596278e-02,\n",
       "        4.29876857e-02, -3.52566540e-02,  5.64922914e-02, -8.19427520e-03,\n",
       "       -2.57189870e-02,  6.83531985e-02,  3.70444953e-02,  1.88982040e-02,\n",
       "       -4.64504957e-02,  5.57935983e-03,  2.24534161e-02, -1.17556095e-01,\n",
       "        5.52438572e-03, -2.03641504e-03,  5.81528135e-02,  3.07510085e-02,\n",
       "        6.93902522e-02, -4.96206358e-02,  4.53281999e-02,  4.90378067e-02,\n",
       "        7.00182021e-02,  6.32998720e-03, -1.47036538e-02, -1.02575831e-02,\n",
       "        1.99420564e-02,  2.87918001e-03, -2.61690989e-02,  3.61039340e-02,\n",
       "        2.89808698e-02, -3.67876776e-02, -4.13418896e-02,  2.06746124e-02,\n",
       "       -5.36241308e-02, -7.54819810e-03, -1.19723286e-02,  4.54888940e-02,\n",
       "        4.33559380e-02, -2.70625874e-02,  3.56938541e-02,  5.84001001e-03,\n",
       "       -9.75158215e-02, -5.79702407e-02, -1.98958740e-02,  6.53267354e-02,\n",
       "        6.07002899e-02, -8.25234652e-02, -6.50167763e-02, -1.06022507e-02],\n",
       "      dtype=float32)"
      ]
     },
     "execution_count": 12,
     "metadata": {},
     "output_type": "execute_result"
    }
   ],
   "source": [
    "# Check the first embeddings\n",
    "pr_reviews_df['embeddings'][0]"
   ]
  },
  {
   "cell_type": "code",
   "execution_count": 13,
   "id": "d051f365",
   "metadata": {},
   "outputs": [],
   "source": [
    "# Save the current DataFrame\n",
    "#pr_reviews_df.to_csv(\"reviews_with_embeddings.csv\", index=False)"
   ]
  },
  {
   "cell_type": "markdown",
   "id": "3103b5df",
   "metadata": {},
   "source": [
    "We can do several things with these embeddings. A relatively easy task is to create a classificatio model. Since we have a `Recommended` column, it can be used as a binary sentiment label. If `Recommended` equals 1, the sentiment can be considered as positive, and if `Recommended` equals 0, the sentiment can be considered negative. Using a random forest classifier, we will be able to create a sentiment prediction model that utilizes these embeddings."
   ]
  },
  {
   "cell_type": "markdown",
   "id": "327b162b",
   "metadata": {},
   "source": [
    "<a id='sec4.2'></a>\n",
    "### 4.2. Building the Random Forest Classifier 🌳🌲\n",
    "\n",
    "A random forest classifier is a type of ensemble learning. It operates by constructing multiple decision trees at training time and outputting the mode of the classes (classification) of the individual trees. This method is great for handling a large dataset with high dimensionality, which is typical in natural language processing tasks.\n",
    "\n",
    "Our text preprocessing has transformed the reviews into a structured numerical format that can be fed into the classifier. We will split our dataset into training and testing sets, then use the training set to train our random forest classifier. The `Recommended` column, as mentioned, will serve as our target variable. After training, we will evaluate the model on the testing set. We can assess the performance of our model using various metrics such as accuracy, precision, recall, and F1 score."
   ]
  },
  {
   "cell_type": "code",
   "execution_count": 6,
   "id": "4e989ff3",
   "metadata": {},
   "outputs": [
    {
     "data": {
      "text/html": [
       "<div>\n",
       "<style scoped>\n",
       "    .dataframe tbody tr th:only-of-type {\n",
       "        vertical-align: middle;\n",
       "    }\n",
       "\n",
       "    .dataframe tbody tr th {\n",
       "        vertical-align: top;\n",
       "    }\n",
       "\n",
       "    .dataframe thead th {\n",
       "        text-align: right;\n",
       "    }\n",
       "</style>\n",
       "<table border=\"1\" class=\"dataframe\">\n",
       "  <thead>\n",
       "    <tr style=\"text-align: right;\">\n",
       "      <th></th>\n",
       "      <th>Unnamed: 0</th>\n",
       "      <th>AirlineName</th>\n",
       "      <th>CabinType</th>\n",
       "      <th>EntertainmentRating</th>\n",
       "      <th>FoodRating</th>\n",
       "      <th>GroundServiceRating</th>\n",
       "      <th>OverallScore</th>\n",
       "      <th>Recommended</th>\n",
       "      <th>Review</th>\n",
       "      <th>SeatComfortRating</th>\n",
       "      <th>ServiceRating</th>\n",
       "      <th>TripVerified</th>\n",
       "      <th>ValueRating</th>\n",
       "      <th>WifiRating</th>\n",
       "      <th>MonthYearPublished</th>\n",
       "      <th>processed_review</th>\n",
       "      <th>vader_score</th>\n",
       "      <th>embeddings</th>\n",
       "    </tr>\n",
       "  </thead>\n",
       "  <tbody>\n",
       "    <tr>\n",
       "      <th>0</th>\n",
       "      <td>0</td>\n",
       "      <td>AB Aviation</td>\n",
       "      <td>Economy Class</td>\n",
       "      <td>0</td>\n",
       "      <td>4</td>\n",
       "      <td>4</td>\n",
       "      <td>9.0</td>\n",
       "      <td>1</td>\n",
       "      <td>Moroni to Moheli . Turned out to be a pretty d...</td>\n",
       "      <td>4</td>\n",
       "      <td>5</td>\n",
       "      <td>1</td>\n",
       "      <td>3</td>\n",
       "      <td>0</td>\n",
       "      <td>2019-11-01</td>\n",
       "      <td>moroni moheli turn pretty decent airline onlin...</td>\n",
       "      <td>0.9217</td>\n",
       "      <td>[-7.48624206e-02  5.02544716e-02  8.25254992e-...</td>\n",
       "    </tr>\n",
       "    <tr>\n",
       "      <th>1</th>\n",
       "      <td>1</td>\n",
       "      <td>AB Aviation</td>\n",
       "      <td>Economy Class</td>\n",
       "      <td>0</td>\n",
       "      <td>1</td>\n",
       "      <td>1</td>\n",
       "      <td>1.0</td>\n",
       "      <td>0</td>\n",
       "      <td>Moroni to Anjouan . It be a very small airline...</td>\n",
       "      <td>2</td>\n",
       "      <td>2</td>\n",
       "      <td>1</td>\n",
       "      <td>2</td>\n",
       "      <td>0</td>\n",
       "      <td>2019-06-01</td>\n",
       "      <td>moroni anjouan small airline ticket advise tur...</td>\n",
       "      <td>-0.0258</td>\n",
       "      <td>[-4.88405600e-02  6.26353398e-02  3.17674577e-...</td>\n",
       "    </tr>\n",
       "    <tr>\n",
       "      <th>2</th>\n",
       "      <td>2</td>\n",
       "      <td>AB Aviation</td>\n",
       "      <td>Economy Class</td>\n",
       "      <td>0</td>\n",
       "      <td>1</td>\n",
       "      <td>1</td>\n",
       "      <td>1.0</td>\n",
       "      <td>0</td>\n",
       "      <td>Anjouan to Dzaoudzi . A very small airline and...</td>\n",
       "      <td>2</td>\n",
       "      <td>1</td>\n",
       "      <td>1</td>\n",
       "      <td>2</td>\n",
       "      <td>0</td>\n",
       "      <td>2019-06-01</td>\n",
       "      <td>anjouan dzaoudzi small airline airline base co...</td>\n",
       "      <td>0.8122</td>\n",
       "      <td>[-6.50776327e-02  5.73336780e-02  1.99776646e-...</td>\n",
       "    </tr>\n",
       "    <tr>\n",
       "      <th>3</th>\n",
       "      <td>3</td>\n",
       "      <td>Aerocaribbean</td>\n",
       "      <td>Economy Class</td>\n",
       "      <td>0</td>\n",
       "      <td>0</td>\n",
       "      <td>0</td>\n",
       "      <td>8.0</td>\n",
       "      <td>1</td>\n",
       "      <td>Havana - Cayo Coco return . A one hour flight ...</td>\n",
       "      <td>0</td>\n",
       "      <td>0</td>\n",
       "      <td>0</td>\n",
       "      <td>4</td>\n",
       "      <td>0</td>\n",
       "      <td>2010-12-01</td>\n",
       "      <td>havana cayo coco return one hour flight old at...</td>\n",
       "      <td>0.7609</td>\n",
       "      <td>[-6.10621199e-02  5.00892252e-02  5.91488555e-...</td>\n",
       "    </tr>\n",
       "    <tr>\n",
       "      <th>4</th>\n",
       "      <td>4</td>\n",
       "      <td>Aerocaribbean</td>\n",
       "      <td>NaN</td>\n",
       "      <td>0</td>\n",
       "      <td>0</td>\n",
       "      <td>0</td>\n",
       "      <td>1.0</td>\n",
       "      <td>0</td>\n",
       "      <td>Holguin to Havana last week . Okay apart from ...</td>\n",
       "      <td>0</td>\n",
       "      <td>0</td>\n",
       "      <td>0</td>\n",
       "      <td>0</td>\n",
       "      <td>0</td>\n",
       "      <td>2010-11-01</td>\n",
       "      <td>holguin havana last week okay apart issue dupl...</td>\n",
       "      <td>-0.5106</td>\n",
       "      <td>[-5.27074486e-02  4.88024950e-02  2.22548284e-...</td>\n",
       "    </tr>\n",
       "  </tbody>\n",
       "</table>\n",
       "</div>"
      ],
      "text/plain": [
       "   Unnamed: 0    AirlineName      CabinType  EntertainmentRating  FoodRating  \\\n",
       "0           0    AB Aviation  Economy Class                    0           4   \n",
       "1           1    AB Aviation  Economy Class                    0           1   \n",
       "2           2    AB Aviation  Economy Class                    0           1   \n",
       "3           3  Aerocaribbean  Economy Class                    0           0   \n",
       "4           4  Aerocaribbean            NaN                    0           0   \n",
       "\n",
       "   GroundServiceRating  OverallScore  Recommended  \\\n",
       "0                    4           9.0            1   \n",
       "1                    1           1.0            0   \n",
       "2                    1           1.0            0   \n",
       "3                    0           8.0            1   \n",
       "4                    0           1.0            0   \n",
       "\n",
       "                                              Review  SeatComfortRating  \\\n",
       "0  Moroni to Moheli . Turned out to be a pretty d...                  4   \n",
       "1  Moroni to Anjouan . It be a very small airline...                  2   \n",
       "2  Anjouan to Dzaoudzi . A very small airline and...                  2   \n",
       "3  Havana - Cayo Coco return . A one hour flight ...                  0   \n",
       "4  Holguin to Havana last week . Okay apart from ...                  0   \n",
       "\n",
       "   ServiceRating  TripVerified  ValueRating  WifiRating MonthYearPublished  \\\n",
       "0              5             1            3           0         2019-11-01   \n",
       "1              2             1            2           0         2019-06-01   \n",
       "2              1             1            2           0         2019-06-01   \n",
       "3              0             0            4           0         2010-12-01   \n",
       "4              0             0            0           0         2010-11-01   \n",
       "\n",
       "                                    processed_review  vader_score  \\\n",
       "0  moroni moheli turn pretty decent airline onlin...       0.9217   \n",
       "1  moroni anjouan small airline ticket advise tur...      -0.0258   \n",
       "2  anjouan dzaoudzi small airline airline base co...       0.8122   \n",
       "3  havana cayo coco return one hour flight old at...       0.7609   \n",
       "4  holguin havana last week okay apart issue dupl...      -0.5106   \n",
       "\n",
       "                                          embeddings  \n",
       "0  [-7.48624206e-02  5.02544716e-02  8.25254992e-...  \n",
       "1  [-4.88405600e-02  6.26353398e-02  3.17674577e-...  \n",
       "2  [-6.50776327e-02  5.73336780e-02  1.99776646e-...  \n",
       "3  [-6.10621199e-02  5.00892252e-02  5.91488555e-...  \n",
       "4  [-5.27074486e-02  4.88024950e-02  2.22548284e-...  "
      ]
     },
     "execution_count": 6,
     "metadata": {},
     "output_type": "execute_result"
    }
   ],
   "source": [
    "# Read in the saved csv file \n",
    "new_reviews_df = pd.read_csv('reviews_with_embeddings.csv')\n",
    "new_reviews_df.head()"
   ]
  },
  {
   "cell_type": "code",
   "execution_count": 7,
   "id": "4ec19908",
   "metadata": {},
   "outputs": [],
   "source": [
    "import ast\n",
    "from sklearn.ensemble import RandomForestClassifier\n",
    "from sklearn.model_selection import train_test_split\n",
    "from sklearn.metrics import classification_report\n",
    "\n",
    "# Convert string representations of numpy arrays to actual numpy arrays\n",
    "new_reviews_df['embeddings'] = new_reviews_df['embeddings'].apply(lambda s: np.array([float(i) for i in s.replace('[', '').replace(']', '').split()]))\n",
    "\n",
    "# Use the 'Recommended' column as labels\n",
    "labels = new_reviews_df['Recommended']\n",
    "\n",
    "# Split data into training and testing sets\n",
    "X_train, X_test, y_train, y_test = train_test_split(new_reviews_df['embeddings'].tolist(), labels, test_size=0.2, random_state=42)"
   ]
  },
  {
   "cell_type": "code",
   "execution_count": 8,
   "id": "e3b74a8d",
   "metadata": {},
   "outputs": [
    {
     "name": "stdout",
     "output_type": "stream",
     "text": [
      "              precision    recall  f1-score   support\n",
      "\n",
      "           0       0.80      0.86      0.83     14536\n",
      "           1       0.78      0.70      0.74     10325\n",
      "\n",
      "    accuracy                           0.79     24861\n",
      "   macro avg       0.79      0.78      0.78     24861\n",
      "weighted avg       0.79      0.79      0.79     24861\n",
      "\n"
     ]
    }
   ],
   "source": [
    "# Train a model\n",
    "clf = RandomForestClassifier(n_estimators=100, random_state=42) # Create 100 different decision trees\n",
    "clf.fit(X_train, y_train)\n",
    "\n",
    "# Predict on test set\n",
    "y_pred = clf.predict(X_test)\n",
    "\n",
    "# Evaluate model performance\n",
    "print(classification_report(y_test, y_pred))"
   ]
  },
  {
   "cell_type": "code",
   "execution_count": 23,
   "id": "f5a7c384",
   "metadata": {},
   "outputs": [
    {
     "name": "stdout",
     "output_type": "stream",
     "text": [
      "              precision    recall  f1-score   support\n",
      "\n",
      "           0       0.80      0.86      0.83     14536\n",
      "           1       0.78      0.70      0.74     10325\n",
      "\n",
      "    accuracy                           0.79     24861\n",
      "   macro avg       0.79      0.78      0.78     24861\n",
      "weighted avg       0.79      0.79      0.79     24861\n",
      "\n"
     ]
    }
   ],
   "source": [
    "import ast\n",
    "from sklearn.ensemble import RandomForestClassifier\n",
    "from sklearn.model_selection import train_test_split\n",
    "from sklearn.metrics import classification_report\n",
    "\n",
    "# Convert string representations of numpy arrays to actual numpy arrays\n",
    "new_reviews_df['embeddings'] = new_reviews_df['embeddings'].apply(lambda s: np.array([float(i) for i in s.replace('[', '').replace(']', '').split()]))\n",
    "\n",
    "# Use the 'Recommended' column as labels\n",
    "labels = new_reviews_df['Recommended']\n",
    "\n",
    "# Split data into training and testing sets\n",
    "X_train, X_test, y_train, y_test = train_test_split(new_reviews_df['embeddings'].tolist(), labels, test_size=0.2, random_state=42)\n",
    "\n",
    "# Train a model\n",
    "clf = RandomForestClassifier(n_estimators=100, random_state=42) # Create 100 different decision trees\n",
    "clf.fit(X_train, y_train)\n",
    "\n",
    "# Predict on test set\n",
    "y_pred = clf.predict(X_test)\n",
    "\n",
    "# Evaluate model performance\n",
    "print(classification_report(y_test, y_pred))"
   ]
  },
  {
   "cell_type": "markdown",
   "id": "89dd189b",
   "metadata": {},
   "source": [
    "Let's take a look at the classification report with four measurements:\n",
    "\n",
    "- **Precision**: This is the ratio of correctly predicted positive observations to the total predicted positive observations. For class 0, the precision is 0.80, meaning that 80% of the reviews the model labeled as not recommended were indeed not recommended. For class 1, the precision is 0.78, which means that 78% of the reviews the model labeled as recommended were indeed recommended.\n",
    "\n",
    "- **Recall** (a.k.a. Sensitivity): This is the ratio of correctly predicted positive observations to all observations in actual class. The recall for class 0 is 0.86, which means the model correctly identified 86% of the not recommended reviews. For class 1, the recall is 0.70, meaning the model correctly identified 70% of the recommended reviews.\n",
    "\n",
    "- **F1-score**: The F1 Score is the weighted average of Precision and Recall. It tries to find the balance between precision and recall. An F1 Score of 0.83 for class 0 means that the balance for correctly identifying not recommended reviews is 83%. For class 1, the F1 score is 0.74, meaning that the balance for correctly identifying recommended reviews is 74%.\n",
    "\n",
    "- **Support**: Support is the number of actual occurrences of the class in the specified dataset. For instance, there are 14,536 instances of not recommended reviews (class 0) and 10,325 instances of recommended reviews (class 1).\n",
    "\n",
    "The **accuracy** of the model is 0.79 or 79%, which is the ratio of correctly predicted observations to the total observations.\n",
    "\n",
    "**macro avg** and **weighted avg** provide the average scores, the former not considering class imbalance, and the latter taking it into account.\n",
    "\n",
    "Overall, the model seems to have performed relatively well in classifying the sentiment of the reviews, with better performance on the not recommended reviews than on the recommended reviews."
   ]
  },
  {
   "cell_type": "markdown",
   "id": "bb3e1b5b",
   "metadata": {},
   "source": [
    "We can use some tuning techniques like grid search to find the optimal parameters. Grid search computes the optimum values of hyperparameters. Since it is computationally expensive and time-consuming, we start with a coarse grid."
   ]
  },
  {
   "cell_type": "code",
   "execution_count": 24,
   "id": "46fea6e0",
   "metadata": {},
   "outputs": [
    {
     "name": "stdout",
     "output_type": "stream",
     "text": [
      "Fitting 3 folds for each of 81 candidates, totalling 243 fits\n"
     ]
    },
    {
     "data": {
      "text/plain": [
       "GridSearchCV(cv=3, estimator=RandomForestClassifier(), n_jobs=-1,\n",
       "             param_grid={'max_depth': [None, 10, 20],\n",
       "                         'min_samples_leaf': [1, 2, 5],\n",
       "                         'min_samples_split': [2, 5, 10],\n",
       "                         'n_estimators': [50, 100, 200]},\n",
       "             verbose=2)"
      ]
     },
     "execution_count": 24,
     "metadata": {},
     "output_type": "execute_result"
    }
   ],
   "source": [
    "from sklearn.model_selection import GridSearchCV\n",
    "\n",
    "# Define the parameter grid\n",
    "param_grid = {\n",
    "    'n_estimators': [50, 100, 200],\n",
    "    'max_depth': [None, 10, 20],\n",
    "    'min_samples_split': [2, 5, 10],\n",
    "    'min_samples_leaf': [1, 2, 5]\n",
    "}\n",
    "\n",
    "# Create a base model\n",
    "rf = RandomForestClassifier()\n",
    "\n",
    "# Initialize the grid search model\n",
    "grid_search = GridSearchCV(estimator=rf, param_grid=param_grid, \n",
    "                           cv=3, n_jobs=-1, verbose=2)\n",
    "\n",
    "# Fit the grid search to the data\n",
    "grid_search.fit(X_train, y_train)"
   ]
  },
  {
   "cell_type": "markdown",
   "id": "d9ab78c7",
   "metadata": {},
   "source": [
    "The summary output tells us various things:\n",
    "\n",
    "- **cv=3**: This means that a 3-fold cross-validation was used. Our sample is randomly partitioned into three equal-sized subsamples. Of the k subsamples, a single subsample is retained as the validation data for testing the model, and the remaining k-1 subsamples are used as training data. The cross-validation process is then repeated k times, with each of the k subsamples used exactly once as the validation data.\n",
    "\n",
    "- **n_jobs=-1**: This indicates the number of jobs to run in parallel. -1 means using all processors.\n",
    "\n",
    "- **param_grid**: This is the range of hyperparameters that the `GridSearchCV` will scan to find the best combination. Here it tried 3 different values for **max_depth**, 3 for **min_samples_leaf**, 3 for **min_samples_split**, and 3 for **n_estimators**. Thus, the total combination is 81 (3x3x3x3). Each of these combinations was evaluated using 3-fold cross-validation, for a total of 81x3 = 243 fits.\n",
    "\n",
    "- **verbose=2**: When verbosity is higher, the more messages we get."
   ]
  },
  {
   "cell_type": "markdown",
   "id": "8dab91aa",
   "metadata": {},
   "source": [
    "Now we can get the results of this grid search."
   ]
  },
  {
   "cell_type": "code",
   "execution_count": 25,
   "id": "73473b4c",
   "metadata": {
    "scrolled": true
   },
   "outputs": [
    {
     "name": "stdout",
     "output_type": "stream",
     "text": [
      "Best parameters: {'max_depth': 20, 'min_samples_leaf': 2, 'min_samples_split': 2, 'n_estimators': 200}\n",
      "Best cross-validation score: 0.8061242924791435\n"
     ]
    }
   ],
   "source": [
    "print(f\"Best parameters: {grid_search.best_params_}\")\n",
    "print(f\"Best cross-validation score: {grid_search.best_score_}\")"
   ]
  },
  {
   "cell_type": "markdown",
   "id": "7d14b650",
   "metadata": {},
   "source": [
    "According to the result:\n",
    "\n",
    "- **'max_depth': 20**: The result suggests that the optimal maximum depth is 20.\n",
    "\n",
    "- **'min_samples_leaf': 2**: This number indicates the minimum number of samples required to be at a leaf node. In our case, the optimal minimum number of samples required at a leaf node is 2.\n",
    "\n",
    "- **'min_samples_split': 2**: The minimum number of samples required to split an internal node. Our optimal minimum number of samples required to split an internal node is 2.\n",
    "\n",
    "- **'n_estimators': 200**: The number of trees in the forest, which is 200. \n",
    "\n",
    "- **best cross-validation score: 0.8061242924791435**: This is the mean accuracy of the model under the best parameters over the cross-validation folds.\n",
    "\n",
    "Now that we have the best hyperparameters for our `RandomForestClassifier`, we can use them to train our model and then evaluate its performance on our test set."
   ]
  },
  {
   "cell_type": "code",
   "execution_count": 26,
   "id": "d48baf29",
   "metadata": {},
   "outputs": [
    {
     "name": "stdout",
     "output_type": "stream",
     "text": [
      "              precision    recall  f1-score   support\n",
      "\n",
      "           0       0.81      0.86      0.84     14536\n",
      "           1       0.79      0.72      0.75     10325\n",
      "\n",
      "    accuracy                           0.80     24861\n",
      "   macro avg       0.80      0.79      0.79     24861\n",
      "weighted avg       0.80      0.80      0.80     24861\n",
      "\n"
     ]
    }
   ],
   "source": [
    "# Instantiate the model with the best parameters\n",
    "clf = RandomForestClassifier(max_depth=20, min_samples_leaf=2, min_samples_split=2, n_estimators=200, random_state=42)\n",
    "\n",
    "# Fit the model on the training data\n",
    "clf.fit(X_train, y_train)\n",
    "\n",
    "# Predict on the test data\n",
    "y_pred = clf.predict(X_test)\n",
    "\n",
    "# Print the classification report\n",
    "print(classification_report(y_test, y_pred))"
   ]
  },
  {
   "cell_type": "code",
   "execution_count": 9,
   "id": "10b0646b",
   "metadata": {},
   "outputs": [
    {
     "name": "stdout",
     "output_type": "stream",
     "text": [
      "              precision    recall  f1-score   support\n",
      "\n",
      "           0       0.81      0.86      0.84     14536\n",
      "           1       0.79      0.72      0.75     10325\n",
      "\n",
      "    accuracy                           0.80     24861\n",
      "   macro avg       0.80      0.79      0.79     24861\n",
      "weighted avg       0.80      0.80      0.80     24861\n",
      "\n"
     ]
    }
   ],
   "source": [
    "# Instantiate the model with the best parameters\n",
    "clf = RandomForestClassifier(max_depth=20, min_samples_leaf=2, min_samples_split=2, n_estimators=200, random_state=42)\n",
    "\n",
    "# Fit the model on the training data\n",
    "clf.fit(X_train, y_train)\n",
    "\n",
    "# Predict on the test data\n",
    "y_pred = clf.predict(X_test)\n",
    "\n",
    "# Print the classification report\n",
    "print(classification_report(y_test, y_pred))"
   ]
  },
  {
   "cell_type": "markdown",
   "id": "f9f1f141",
   "metadata": {},
   "source": [
    "Our second classification report shows that the model performance has improved slightly with the optimized hyperparameters.\n",
    "Here is the table for comparison:\n",
    "\n",
    "| Metric    | Class | Initial Model | Optimized Model |\n",
    "|-----------|-------|---------------|-----------------|\n",
    "| Precision | 0     | 0.80          | 0.81            |\n",
    "| Precision | 1     | 0.78          | 0.79            |\n",
    "| Recall    | 0     | 0.86          | 0.86            |\n",
    "| Recall    | 1     | 0.70          | 0.72            |\n",
    "| F1-Score  | 0     | 0.83          | 0.84            |\n",
    "| F1-Score  | 1     | 0.74          | 0.75            |\n",
    "| Accuracy  | -     | 0.79          | 0.80            |\n",
    "\n",
    "The precision, recall, and F1-score for class \"0\" (not recommended) improved slightly. This means the model has become slightly better at correctly predicting negative reviews.\n",
    "The precision and F1-score for class \"1\" (recommended) remained roughly the same, but the recall for class \"1\" increased. This means that while the model is just as \"precise\" as before in predicting positive reviews, it is now identifying a higher portion of actual positive reviews correctly (recall).\n",
    "\n",
    "Which metrics to value the most can be a contextual issue. Although we usually care for accuracy, in the case of sentiment analysis, we might care more about recall (since we want to identify as many of the true positive/negative sentiments as possible) or F1-score (if we want a balance between precision and recall).\n",
    "\n",
    "For the initial model, Class 0 does have better scores in all three metrics (precision, recall, f1-score) compared to Class 1. This suggests the model is indeed performing better on Class 0 predictions.\n",
    "\n",
    "For the optimized model, the scores are improved for both classes, but the improvement is more noticeable in Class 1, especially for recall and F1-score. While the precision, recall, and F1-score for Class 0 remain higher than for Class 1, the performance gap has narrowed slightly in the optimized model.\n",
    "\n",
    "In overall, we can say that **our model is performing better for class 0 than for class 1**. Since imbalanced classes are a common problem in machine learning classification, we could have checked it before modeling. \n",
    "\n",
    "Let's check whether our dataset is imbalanced, and if so, how severe it is."
   ]
  },
  {
   "cell_type": "code",
   "execution_count": 34,
   "id": "6863dba9",
   "metadata": {},
   "outputs": [
    {
     "data": {
      "text/plain": [
       "0    0.585233\n",
       "1    0.414767\n",
       "Name: Recommended, dtype: float64"
      ]
     },
     "execution_count": 34,
     "metadata": {},
     "output_type": "execute_result"
    }
   ],
   "source": [
    "# Check class percentage\n",
    "new_reviews_df['Recommended'].value_counts(normalize=True)"
   ]
  },
  {
   "cell_type": "markdown",
   "id": "ccde4494",
   "metadata": {},
   "source": [
    "We have class 0 accounting for 58.5% and 41.5% for class 1. This indicates that our classes are slighly imbalanced, but not severe. When there is a severe imbalance, we can consider techniques, such as oversampling, undersampling, or both. But arguably, the imbalance we have is mild, we can proceed with modeling process."
   ]
  },
  {
   "cell_type": "markdown",
   "id": "4e57e4a4",
   "metadata": {},
   "source": [
    "<a id='sec4.3'></a>\n",
    "### 4.3. Building the Support Vector Classifier\n",
    "\n",
    "Different models have different strengths and weaknesses, and might perform better or worse depending on the specific characteristics of the data. By trying different models, we can potentially find a model that performs better than the Random Forest Classifier. \n",
    "\n",
    "This time, we can employ the Support Vector Classifier (SVC), which is a type of Support Vector Machine (SVM). SVM is a powerful and flexible class of supervised algorithms for both classification and regression. We hope the SVC can provide a different perspective, allowing us to draw a decision boundary that maximizes the margin between classes. This can be particularly insightful when visualizing the decision boundary in a lower-dimensional space.\n",
    "\n",
    "Given the large size of your data, it is a good idea to use a subset of our data to find a good set of hyperparameters, then train our final model on all the data with those hyperparameters. For the sake of time and given the constraints, we will not have a validation set. Instead, we will use a form of validation when it does `GridSearchCV` - it splits the data it is given (a subset of the training data in this case) into further training and validation sets for the purpose of the grid search. Thus, even without explicitly setting aside a validation set, our model's hyperparameters are being validated as part of the grid search process. Since SVMs are sensitive to the range of the data, we will scale our data."
   ]
  },
  {
   "cell_type": "code",
   "execution_count": null,
   "id": "7ea4217b",
   "metadata": {},
   "outputs": [
    {
     "name": "stdout",
     "output_type": "stream",
     "text": [
      "Fitting 5 folds for each of 3 candidates, totalling 15 fits\n"
     ]
    }
   ],
   "source": [
    "from sklearn.svm import SVC\n",
    "from sklearn.preprocessing import StandardScaler\n",
    "from sklearn.pipeline import Pipeline\n",
    "\n",
    "# Scale our data\n",
    "scaler = StandardScaler()\n",
    "X_train_scaled = scaler.fit_transform(X_train)\n",
    "X_test_scaled = scaler.transform(X_test)\n",
    "\n",
    "# Choose a small subset of data for grid search to save time\n",
    "subset_X_train = X_train[:5000]\n",
    "subset_y_train = y_train[:5000]\n",
    "\n",
    "# Define a pipeline combining a text feature extractor with a simple linear classifier\n",
    "pipeline = Pipeline([\n",
    "    ('svm', SVC(kernel='linear', random_state=42))\n",
    "])\n",
    "\n",
    "parameters = {\n",
    "    'svm__C': [0.1, 1, 10]\n",
    "}\n",
    "\n",
    "grid_search = GridSearchCV(pipeline, parameters, cv=5, verbose=1)\n",
    "\n",
    "# Only use a subset of data to speed up the grid search process\n",
    "grid_search.fit(subset_X_train, subset_y_train)\n",
    "\n",
    "# Best parameter set\n",
    "print('Best parameters found:\\n', grid_search.best_params_)\n",
    "\n",
    "# All results\n",
    "means = grid_search.cv_results_['mean_test_score']\n",
    "stds = grid_search.cv_results_['std_test_score']\n",
    "for mean, std, params in zip(means, stds, grid_search.cv_results_['params']):\n",
    "    print(\"%0.3f (+/-%0.03f) for %r\" % (mean, std * 2, params))\n",
    "\n",
    "# Now train the final model on all the data with the best parameters found\n",
    "svm_final = SVC(kernel='linear', C=grid_search.best_params_['svm__C'], random_state=42)\n",
    "svm_final.fit(X_train_scaled, y_train)"
   ]
  },
  {
   "cell_type": "markdown",
   "id": "d767cb66",
   "metadata": {},
   "source": [
    "The output shows that the model with C=10 performed the best, with an average accuracy score of 0.849 (and a standard deviation of +/- 0.016).\n",
    "Now, with the best parameters found ({'svm__C': 10}), we can proceed to train our final SVM model on all the training data."
   ]
  },
  {
   "cell_type": "code",
   "execution_count": 1,
   "id": "63f5a619",
   "metadata": {},
   "outputs": [
    {
     "ename": "NameError",
     "evalue": "name 'svm_final' is not defined",
     "output_type": "error",
     "traceback": [
      "\u001b[1;31m---------------------------------------------------------------------------\u001b[0m",
      "\u001b[1;31mNameError\u001b[0m                                 Traceback (most recent call last)",
      "\u001b[1;32m~\\AppData\\Local\\Temp\\ipykernel_22872\\3375908029.py\u001b[0m in \u001b[0;36m<module>\u001b[1;34m\u001b[0m\n\u001b[0;32m      2\u001b[0m \u001b[1;33m\u001b[0m\u001b[0m\n\u001b[0;32m      3\u001b[0m \u001b[1;31m# Predict the test data\u001b[0m\u001b[1;33m\u001b[0m\u001b[1;33m\u001b[0m\u001b[0m\n\u001b[1;32m----> 4\u001b[1;33m \u001b[0my_pred\u001b[0m \u001b[1;33m=\u001b[0m \u001b[0msvm_final\u001b[0m\u001b[1;33m.\u001b[0m\u001b[0mpredict\u001b[0m\u001b[1;33m(\u001b[0m\u001b[0mX_test_scaled\u001b[0m\u001b[1;33m)\u001b[0m\u001b[1;33m\u001b[0m\u001b[1;33m\u001b[0m\u001b[0m\n\u001b[0m\u001b[0;32m      5\u001b[0m \u001b[1;33m\u001b[0m\u001b[0m\n\u001b[0;32m      6\u001b[0m \u001b[1;31m# Classification report\u001b[0m\u001b[1;33m\u001b[0m\u001b[1;33m\u001b[0m\u001b[0m\n",
      "\u001b[1;31mNameError\u001b[0m: name 'svm_final' is not defined"
     ]
    }
   ],
   "source": [
    "from sklearn.metrics import classification_report, confusion_matrix\n",
    "\n",
    "# Predict the test data\n",
    "y_pred = svm_final.predict(X_test_scaled)\n",
    "\n",
    "# Classification report\n",
    "print(classification_report(y_test, y_pred))\n",
    "\n",
    "# Confusion matrix\n",
    "print(confusion_matrix(y_test, y_pred))"
   ]
  },
  {
   "cell_type": "code",
   "execution_count": null,
   "id": "4bb4e5b1",
   "metadata": {},
   "outputs": [],
   "source": []
  },
  {
   "cell_type": "code",
   "execution_count": null,
   "id": "9cbe6d3f",
   "metadata": {},
   "outputs": [],
   "source": []
  },
  {
   "cell_type": "code",
   "execution_count": null,
   "id": "810358bd",
   "metadata": {},
   "outputs": [],
   "source": []
  },
  {
   "cell_type": "code",
   "execution_count": null,
   "id": "9f8be22b",
   "metadata": {},
   "outputs": [],
   "source": []
  },
  {
   "cell_type": "code",
   "execution_count": null,
   "id": "379692a4",
   "metadata": {},
   "outputs": [],
   "source": []
  },
  {
   "cell_type": "markdown",
   "id": "5d9d8158",
   "metadata": {},
   "source": [
    "Fitting 3 folds for each of 81 candidates, totalling 243 fits\n",
    "GridSearchCV(cv=3, estimator=RandomForestClassifier(), n_jobs=-1,\n",
    "             param_grid={'max_depth': [None, 10, 20],\n",
    "                         'min_samples_leaf': [1, 2, 5],\n",
    "                         'min_samples_split': [2, 5, 10],\n",
    "                         'n_estimators': [50, 100, 200]},\n",
    "             verbose=2)"
   ]
  },
  {
   "cell_type": "code",
   "execution_count": null,
   "id": "63d87c6c",
   "metadata": {},
   "outputs": [],
   "source": []
  },
  {
   "cell_type": "code",
   "execution_count": null,
   "id": "e013e1ec",
   "metadata": {},
   "outputs": [],
   "source": []
  },
  {
   "cell_type": "code",
   "execution_count": null,
   "id": "1f1caff8",
   "metadata": {},
   "outputs": [],
   "source": []
  },
  {
   "cell_type": "markdown",
   "id": "094260d7",
   "metadata": {},
   "source": [
    "<a id='sec4.3'></a>\n",
    "### 4.3. Inital Model Evaluation and Application\n",
    "\n",
    "asd"
   ]
  },
  {
   "cell_type": "markdown",
   "id": "ff442e20",
   "metadata": {},
   "source": [
    "<a id='sec4.3.1'></a>\n",
    "#### 4.3.1. Classification Report\n",
    "\n",
    "asd"
   ]
  },
  {
   "cell_type": "code",
   "execution_count": null,
   "id": "a778ca5d",
   "metadata": {},
   "outputs": [],
   "source": []
  },
  {
   "cell_type": "code",
   "execution_count": null,
   "id": "62fd2403",
   "metadata": {},
   "outputs": [],
   "source": []
  },
  {
   "cell_type": "markdown",
   "id": "1cba68c6",
   "metadata": {},
   "source": [
    "<a id='sum'></a>\n",
    "## 5. Finding Summary\n",
    "\n",
    "Let's summarize what we've found from our preliminary data exploration, data cleaning, and EDA."
   ]
  },
  {
   "cell_type": "markdown",
   "id": "bc4528bd",
   "metadata": {},
   "source": [
    "In this notebook, we conducted preliminary data exploration to understand the dataset, cleaned the dataset to improve the data quality, and performed exploratory data analysis. Along the way, we created several visualizations, including bar plots and a heatmap, to grasp patterns and gain valuable insights. Here are the key insights drawn from this work:\n",
    "\n",
    "- Customer satisfaction is closely tied to the `OverallScore` and `ValueRating`, highlighting the importance of delivering a positive overall experience and value for money. However, it is important to note the presence of high interconnections and correlations among variables, which can lead to multicollinearity issues when applying machine learning techniques. Dealing with multicollinearity through feature selection, dimensionality reduction, or regularization methods becomes crucial to ensure the robustness of the models and reliable predictions.\n",
    "\n",
    "- The histogram analysis revealed that the majority of airlines have relatively low review counts, while only a few airlines have a significantly higher number of reviews. This indicates the need for careful interpretation and consideration of sample size when analyzing airline performance based on customer reviews. Airlines with a smaller number of reviews may require additional data collection efforts to provide more robust insights.\n",
    "\n",
    "- Through the analysis of the frequent words in customer reviews, we can gain insight into what aspects of customer experience shape their reviews. Factors such as service, time, food, seats, and staff, play a significant role in shaping customer perceptions and satisfaction.\n",
    "\n",
    "Overall, we have gained a good understanding of the dataset. The EDA phase is an iterative process, and as we proceed with further analysis or modeling, we may discover new insights and revisit the earlier processes. Nonetheless, this summary provides a good foundation for deeper analysis and modeling."
   ]
  },
  {
   "cell_type": "markdown",
   "id": "369a182c",
   "metadata": {},
   "source": [
    "<a id='next'></a>\n",
    "## 6. Next Steps\n",
    "\n",
    "In the following notebook(s), we will formulate research questions and hypotheses, conduct hypothesis testing, and utilize machine learning techniques to build predictive models for outcomes such as overall score and customer recommendations. Additionally, we will explore sentiment analysis methods to gain further insights from customer reviews. These steps will enhance our understanding of the data and provide valuable insights for decision-making."
   ]
  }
 ],
 "metadata": {
  "kernelspec": {
   "display_name": "Python 3 (ipykernel)",
   "language": "python",
   "name": "python3"
  },
  "language_info": {
   "codemirror_mode": {
    "name": "ipython",
    "version": 3
   },
   "file_extension": ".py",
   "mimetype": "text/x-python",
   "name": "python",
   "nbconvert_exporter": "python",
   "pygments_lexer": "ipython3",
   "version": "3.9.13"
  }
 },
 "nbformat": 4,
 "nbformat_minor": 5
}
